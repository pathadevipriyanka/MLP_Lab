{
  "nbformat": 4,
  "nbformat_minor": 0,
  "metadata": {
    "colab": {
      "name": "MLP_LAB_External_16_08.ipynb",
      "provenance": []
    },
    "kernelspec": {
      "name": "python3",
      "display_name": "Python 3"
    },
    "language_info": {
      "name": "python"
    }
  },
  "cells": [
    {
      "cell_type": "markdown",
      "metadata": {
        "id": "9PERgLfdWZJG"
      },
      "source": [
        "#Question no. 2"
      ]
    },
    {
      "cell_type": "markdown",
      "metadata": {
        "id": "7Km19pOARMHH"
      },
      "source": [
        "#a) Write a program to implement dictionary"
      ]
    },
    {
      "cell_type": "code",
      "metadata": {
        "colab": {
          "base_uri": "https://localhost:8080/"
        },
        "id": "DRGbJVeuS7wP",
        "outputId": "f317a0ff-9556-4de3-bdaa-5ef1f391570c"
      },
      "source": [
        "#printing dictionary items\n",
        "my_dict = {'name': 'Priyanka', 'rollno': 41, 'age': 20, 'college': 'VJIT', 'year': 2, 'branch': 'AIE', 'address': 'Hyderabad'}\n",
        "\n",
        "\n",
        "my_dict['address'] = 'Hyderabad'\n",
        "\n",
        "print(my_dict)"
      ],
      "execution_count": null,
      "outputs": [
        {
          "output_type": "stream",
          "text": [
            "{'name': 'Priyanka', 'rollno': 41, 'age': 20, 'college': 'VJIT', 'year': 2, 'branch': 'AIE', 'address': 'Hyderabad'}\n"
          ],
          "name": "stdout"
        }
      ]
    },
    {
      "cell_type": "code",
      "metadata": {
        "colab": {
          "base_uri": "https://localhost:8080/"
        },
        "id": "b6W32xHfT2qV",
        "outputId": "c306732e-4816-45a9-8b1a-7cb474f96164"
      },
      "source": [
        "#Returns a dictionary with the specified keys and value using fromkeys()\n",
        "\n",
        "x = ('rollno', 'year')\n",
        "y = 0\n",
        "my_dict = dict.fromkeys(x, y)\n",
        "print(my_dict)"
      ],
      "execution_count": null,
      "outputs": [
        {
          "output_type": "stream",
          "text": [
            "{'rollno': 0, 'year': 0}\n"
          ],
          "name": "stdout"
        }
      ]
    },
    {
      "cell_type": "code",
      "metadata": {
        "colab": {
          "base_uri": "https://localhost:8080/"
        },
        "id": "JSIPJCi1Ydz-",
        "outputId": "316ccb5e-e116-43d5-c6bf-ca9e79e2209a"
      },
      "source": [
        "#Returns the value of the specified key using get()\n",
        "\n",
        "my_dict = {'name': 'Priyanka', 'rollno': 41, 'age': 20, 'college': 'VJIT', 'year': 2, 'branch': 'AIE', 'address': 'Hyderabad'}\n",
        "x = my_dict.get(\"age\")\n",
        "\n",
        "print(x) "
      ],
      "execution_count": null,
      "outputs": [
        {
          "output_type": "stream",
          "text": [
            "20\n"
          ],
          "name": "stdout"
        }
      ]
    },
    {
      "cell_type": "code",
      "metadata": {
        "colab": {
          "base_uri": "https://localhost:8080/"
        },
        "id": "MDuNHhgBZEo8",
        "outputId": "00bfd7bf-4799-4e3f-8923-06554ee7f5b4"
      },
      "source": [
        "#Updates the dictionary with the specified key-value pairs\n",
        "\n",
        "my_dict = {'name': 'Priyanka', 'rollno': 41, 'age': 20, 'college': 'VJIT', 'year': 2, 'branch': 'AIE', 'address': 'Hyderabad'}\n",
        "\n",
        "my_dict.update({'address': 'mehdipatnam'})\n",
        "\n",
        "print(my_dict) "
      ],
      "execution_count": null,
      "outputs": [
        {
          "output_type": "stream",
          "text": [
            "{'name': 'Priyanka', 'rollno': 41, 'age': 20, 'college': 'VJIT', 'year': 2, 'branch': 'AIE', 'address': 'mehdipatnam'}\n"
          ],
          "name": "stdout"
        }
      ]
    },
    {
      "cell_type": "code",
      "metadata": {
        "colab": {
          "base_uri": "https://localhost:8080/"
        },
        "id": "snNgMr7CaxF0",
        "outputId": "22a1881e-bed4-4219-dfd3-f652a818548f"
      },
      "source": [
        "#popping out an item from the dictionary\n",
        "my_dict = {'name': 'Priyanka', 'rollno': 41, 'age': 20, 'college': 'VJIT', 'year': 2, 'branch': 'AIE', 'address': 'Hyderabad'}\n",
        "\n",
        "my_dict.pop('age')\n",
        "\n",
        "print(my_dict) "
      ],
      "execution_count": null,
      "outputs": [
        {
          "output_type": "stream",
          "text": [
            "{'name': 'Priyanka', 'rollno': 41, 'college': 'VJIT', 'year': 2, 'branch': 'AIE', 'address': 'Hyderabad'}\n"
          ],
          "name": "stdout"
        }
      ]
    },
    {
      "cell_type": "markdown",
      "metadata": {
        "id": "t5jJXxN0gFRN"
      },
      "source": [
        "#b)write a program for calculating matrices using numpy"
      ]
    },
    {
      "cell_type": "markdown",
      "metadata": {
        "id": "OA9o-oRvho4O"
      },
      "source": [
        "1) inv, 2)pinv"
      ]
    },
    {
      "cell_type": "code",
      "metadata": {
        "colab": {
          "base_uri": "https://localhost:8080/"
        },
        "id": "XnsHO66qgFgh",
        "outputId": "6884332f-21c9-4e3e-a63f-e9e77ad692a9"
      },
      "source": [
        "\n",
        "import numpy as np\n",
        "from numpy import linalg\n",
        "matrix = np.array([\n",
        "                [10,20,30,40],\n",
        "                [34,54,36,90],\n",
        "                [48,83,94,23],\n",
        "                [23,45,36,89]\n",
        "])\n",
        "\n",
        "print(\"Inverse of matrix:\\n\")\n",
        "print(linalg.inv(matrix))\n",
        "print(\"\\n\\n\")\n",
        "print(\"Pseudo Inverse of matrix:\\n\")\n",
        "print(linalg.pinv(matrix))"
      ],
      "execution_count": null,
      "outputs": [
        {
          "output_type": "stream",
          "text": [
            "Inverse of matrix:\n",
            "\n",
            "[[ 1.33295973e-01  1.79088944e-01 -2.08950444e-02 -2.35609639e-01]\n",
            " [-1.65086863e-01 -1.08618205e-01  2.64190217e-02  1.77207589e-01]\n",
            " [ 7.29245056e-02  2.60187335e-03 -8.00576415e-05 -3.53854775e-02]\n",
            " [ 1.95260588e-02  7.58546153e-03 -7.92570651e-03 -3.16227684e-03]]\n",
            "\n",
            "\n",
            "\n",
            "Pseudo Inverse of matrix:\n",
            "\n",
            "[[ 1.33295973e-01  1.79088944e-01 -2.08950444e-02 -2.35609639e-01]\n",
            " [-1.65086863e-01 -1.08618205e-01  2.64190217e-02  1.77207589e-01]\n",
            " [ 7.29245056e-02  2.60187335e-03 -8.00576415e-05 -3.53854775e-02]\n",
            " [ 1.95260588e-02  7.58546153e-03 -7.92570651e-03 -3.16227684e-03]]\n"
          ],
          "name": "stdout"
        }
      ]
    },
    {
      "cell_type": "markdown",
      "metadata": {
        "id": "lwWuPUqMjy99"
      },
      "source": [
        "3)matrix rank"
      ]
    },
    {
      "cell_type": "code",
      "metadata": {
        "colab": {
          "base_uri": "https://localhost:8080/"
        },
        "id": "6ECpbmR1j2RM",
        "outputId": "e75abb97-e7ab-4f05-c51f-c92872ff3a02"
      },
      "source": [
        "from numpy import linalg\n",
        "\n",
        "matrix = np.ones(7)\n",
        "print(matrix)\n",
        "\n",
        "print(\"Rank of matrix: \",linalg.matrix_rank(matrix))"
      ],
      "execution_count": null,
      "outputs": [
        {
          "output_type": "stream",
          "text": [
            "[1. 1. 1. 1. 1. 1. 1.]\n",
            "Rank of matrix:  1\n"
          ],
          "name": "stdout"
        }
      ]
    },
    {
      "cell_type": "markdown",
      "metadata": {
        "id": "cLMZBPcalAjM"
      },
      "source": [
        "4) LSTSQ"
      ]
    },
    {
      "cell_type": "code",
      "metadata": {
        "colab": {
          "base_uri": "https://localhost:8080/"
        },
        "id": "uznTzoe7m5Jd",
        "outputId": "733e98f3-b7f4-40d4-9698-45dc3915d739"
      },
      "source": [
        "coeff_matrix = np.array([\n",
        "                         [6, -9],\n",
        "                         [4, 5]\n",
        "])\n",
        "\n",
        "const_matrix = np.array([1, -6])\n",
        "\n",
        "linalg.lstsq(coeff_matrix, const_matrix)"
      ],
      "execution_count": null,
      "outputs": [
        {
          "output_type": "stream",
          "text": [
            "/usr/local/lib/python3.7/dist-packages/ipykernel_launcher.py:8: FutureWarning: `rcond` parameter will change to the default of machine precision times ``max(M, N)`` where M and N are the input matrix dimensions.\n",
            "To use the future default and silence this warning we advise to pass `rcond=None`, to keep using the old, explicitly pass `rcond=-1`.\n",
            "  \n"
          ],
          "name": "stderr"
        },
        {
          "output_type": "execute_result",
          "data": {
            "text/plain": [
              "(array([-0.74242424, -0.60606061]),\n",
              " array([], dtype=float64),\n",
              " 2,\n",
              " array([11.06420294,  5.96518343]))"
            ]
          },
          "metadata": {
            "tags": []
          },
          "execution_count": 61
        }
      ]
    },
    {
      "cell_type": "markdown",
      "metadata": {
        "id": "GisteGjclygX"
      },
      "source": [
        "5) SVD"
      ]
    },
    {
      "cell_type": "code",
      "metadata": {
        "colab": {
          "base_uri": "https://localhost:8080/"
        },
        "id": "U3r7TgZyl1D-",
        "outputId": "75017ed3-7bf1-487b-d824-e542c2a7cef5"
      },
      "source": [
        "coeff_matrix = np.array([\n",
        "                         [52, -8],\n",
        "                         [42, 25]\n",
        "])\n",
        "\n",
        "const_matrix = np.array([1, -6])\n",
        "\n",
        "solution = linalg.solve(coeff_matrix, const_matrix)\n",
        "\n",
        "print(solution)"
      ],
      "execution_count": null,
      "outputs": [
        {
          "output_type": "stream",
          "text": [
            "[-0.01405868 -0.21638142]\n"
          ],
          "name": "stdout"
        }
      ]
    },
    {
      "cell_type": "markdown",
      "metadata": {
        "id": "lTNUrc4mjnXW"
      },
      "source": [
        "6)transpose"
      ]
    },
    {
      "cell_type": "code",
      "metadata": {
        "colab": {
          "base_uri": "https://localhost:8080/"
        },
        "id": "hvvJmmmqjCos",
        "outputId": "51fd74e3-ea9b-4ff5-94f2-dc53294a18cd"
      },
      "source": [
        "matrix = np.random.randint(1,100,24).reshape(3,8)\n",
        "\n",
        "print(\"Matrix:\")\n",
        "print(matrix)\n",
        "print(\"\\n\\n\")\n",
        "\n",
        "print(\"Transpose of Matrix:\")\n",
        "print(matrix.transpose()) "
      ],
      "execution_count": null,
      "outputs": [
        {
          "output_type": "stream",
          "text": [
            "Matrix:\n",
            "[[32 80 85 41 73 27 83 61]\n",
            " [28 98 29  1 78 99 35 11]\n",
            " [98 99 54 42 39 37 59 52]]\n",
            "\n",
            "\n",
            "\n",
            "Transpose of Matrix:\n",
            "[[32 28 98]\n",
            " [80 98 99]\n",
            " [85 29 54]\n",
            " [41  1 42]\n",
            " [73 78 39]\n",
            " [27 99 37]\n",
            " [83 35 59]\n",
            " [61 11 52]]\n"
          ],
          "name": "stdout"
        }
      ]
    },
    {
      "cell_type": "markdown",
      "metadata": {
        "id": "CgBptQTBkLZP"
      },
      "source": [
        "7) eigen values"
      ]
    },
    {
      "cell_type": "code",
      "metadata": {
        "colab": {
          "base_uri": "https://localhost:8080/"
        },
        "id": "zaeaZILCkKdL",
        "outputId": "38211ab8-f8b1-4e37-bf4d-625f0cc5eb9a"
      },
      "source": [
        "matrix = np.array([\n",
        "                   [23,0,0,0],\n",
        "                   [0,90,0,0],\n",
        "                   [0,0,87,0],\n",
        "                   [0,0,0,76]\n",
        "])\n",
        "\n",
        "print(\"Matrix: \")\n",
        "print(matrix)\n",
        "\n",
        "evl, evc = linalg.eig(matrix)\n",
        "\n",
        "print(\"\\nEigen values:\")\n",
        "print(evl)\n",
        "\n",
        "print(\"\\nEigen vectors:\")\n",
        "print(evc)"
      ],
      "execution_count": null,
      "outputs": [
        {
          "output_type": "stream",
          "text": [
            "Matrix: \n",
            "[[23  0  0  0]\n",
            " [ 0 90  0  0]\n",
            " [ 0  0 87  0]\n",
            " [ 0  0  0 76]]\n",
            "\n",
            "Eigen values:\n",
            "[23. 90. 87. 76.]\n",
            "\n",
            "Eigen vectors:\n",
            "[[1. 0. 0. 0.]\n",
            " [0. 1. 0. 0.]\n",
            " [0. 0. 1. 0.]\n",
            " [0. 0. 0. 1.]]\n"
          ],
          "name": "stdout"
        }
      ]
    },
    {
      "cell_type": "markdown",
      "metadata": {
        "id": "FKGx0YdPk0ov"
      },
      "source": [
        "8) Sort"
      ]
    },
    {
      "cell_type": "code",
      "metadata": {
        "colab": {
          "base_uri": "https://localhost:8080/"
        },
        "id": "28pexECkk2ll",
        "outputId": "d94c2092-8ff6-4d83-bcd1-2d4331d30e21"
      },
      "source": [
        "matrix = np.random.randint(1,30,24).reshape(6,4)\n",
        "print(matrix)\n",
        "\n",
        "print(\"\\n\\nsorted:\")\n",
        "print(np.sort(matrix, axis=None))\n",
        "\n",
        "print(\"\\n\\nsorted row wise:\")\n",
        "print(np.sort(matrix, axis=0))\n",
        "\n",
        "print(\"\\n\\nsorted column wise:\")\n",
        "print(np.sort(matrix, axis=1))"
      ],
      "execution_count": null,
      "outputs": [
        {
          "output_type": "stream",
          "text": [
            "[[13 11 16 23]\n",
            " [ 1  1 22  6]\n",
            " [12  3 13  3]\n",
            " [29 17 27 18]\n",
            " [28 29  4 12]\n",
            " [19 26 10 12]]\n",
            "\n",
            "\n",
            "sorted:\n",
            "[ 1  1  3  3  4  6 10 11 12 12 12 13 13 16 17 18 19 22 23 26 27 28 29 29]\n",
            "\n",
            "\n",
            "sorted row wise:\n",
            "[[ 1  1  4  3]\n",
            " [12  3 10  6]\n",
            " [13 11 13 12]\n",
            " [19 17 16 12]\n",
            " [28 26 22 18]\n",
            " [29 29 27 23]]\n",
            "\n",
            "\n",
            "sorted column wise:\n",
            "[[11 13 16 23]\n",
            " [ 1  1  6 22]\n",
            " [ 3  3 12 13]\n",
            " [17 18 27 29]\n",
            " [ 4 12 28 29]\n",
            " [10 12 19 26]]\n"
          ],
          "name": "stdout"
        }
      ]
    },
    {
      "cell_type": "markdown",
      "metadata": {
        "id": "1H_VirgqkXlu"
      },
      "source": [
        "9) Line Space"
      ]
    },
    {
      "cell_type": "code",
      "metadata": {
        "colab": {
          "base_uri": "https://localhost:8080/"
        },
        "id": "3ol3cYTAkWqY",
        "outputId": "863528cc-7469-41fb-cab7-a5db8eb006e8"
      },
      "source": [
        "a = np.linspace(0,100,num=10)\n",
        "print(a)\n",
        "a = np.mgrid[1:10,5:20]\n",
        "print(a)\n",
        "a = np.linspace(1, 5, 5)\n",
        "b = np.linspace(1,8,8)\n",
        "\n",
        "x,y = np.meshgrid(a,b)\n",
        "\n",
        "print(x)\n",
        "print(y)\n",
        "a = np.ogrid[1:10,5:20]\n",
        "print(a)"
      ],
      "execution_count": null,
      "outputs": [
        {
          "output_type": "stream",
          "text": [
            "[  0.          11.11111111  22.22222222  33.33333333  44.44444444\n",
            "  55.55555556  66.66666667  77.77777778  88.88888889 100.        ]\n",
            "[[[ 1  1  1  1  1  1  1  1  1  1  1  1  1  1  1]\n",
            "  [ 2  2  2  2  2  2  2  2  2  2  2  2  2  2  2]\n",
            "  [ 3  3  3  3  3  3  3  3  3  3  3  3  3  3  3]\n",
            "  [ 4  4  4  4  4  4  4  4  4  4  4  4  4  4  4]\n",
            "  [ 5  5  5  5  5  5  5  5  5  5  5  5  5  5  5]\n",
            "  [ 6  6  6  6  6  6  6  6  6  6  6  6  6  6  6]\n",
            "  [ 7  7  7  7  7  7  7  7  7  7  7  7  7  7  7]\n",
            "  [ 8  8  8  8  8  8  8  8  8  8  8  8  8  8  8]\n",
            "  [ 9  9  9  9  9  9  9  9  9  9  9  9  9  9  9]]\n",
            "\n",
            " [[ 5  6  7  8  9 10 11 12 13 14 15 16 17 18 19]\n",
            "  [ 5  6  7  8  9 10 11 12 13 14 15 16 17 18 19]\n",
            "  [ 5  6  7  8  9 10 11 12 13 14 15 16 17 18 19]\n",
            "  [ 5  6  7  8  9 10 11 12 13 14 15 16 17 18 19]\n",
            "  [ 5  6  7  8  9 10 11 12 13 14 15 16 17 18 19]\n",
            "  [ 5  6  7  8  9 10 11 12 13 14 15 16 17 18 19]\n",
            "  [ 5  6  7  8  9 10 11 12 13 14 15 16 17 18 19]\n",
            "  [ 5  6  7  8  9 10 11 12 13 14 15 16 17 18 19]\n",
            "  [ 5  6  7  8  9 10 11 12 13 14 15 16 17 18 19]]]\n",
            "[[1. 2. 3. 4. 5.]\n",
            " [1. 2. 3. 4. 5.]\n",
            " [1. 2. 3. 4. 5.]\n",
            " [1. 2. 3. 4. 5.]\n",
            " [1. 2. 3. 4. 5.]\n",
            " [1. 2. 3. 4. 5.]\n",
            " [1. 2. 3. 4. 5.]\n",
            " [1. 2. 3. 4. 5.]]\n",
            "[[1. 1. 1. 1. 1.]\n",
            " [2. 2. 2. 2. 2.]\n",
            " [3. 3. 3. 3. 3.]\n",
            " [4. 4. 4. 4. 4.]\n",
            " [5. 5. 5. 5. 5.]\n",
            " [6. 6. 6. 6. 6.]\n",
            " [7. 7. 7. 7. 7.]\n",
            " [8. 8. 8. 8. 8.]]\n",
            "[array([[1],\n",
            "       [2],\n",
            "       [3],\n",
            "       [4],\n",
            "       [5],\n",
            "       [6],\n",
            "       [7],\n",
            "       [8],\n",
            "       [9]]), array([[ 5,  6,  7,  8,  9, 10, 11, 12, 13, 14, 15, 16, 17, 18, 19]])]\n"
          ],
          "name": "stdout"
        }
      ]
    }
  ]
}