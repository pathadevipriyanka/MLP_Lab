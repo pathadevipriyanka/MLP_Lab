{
  "nbformat": 4,
  "nbformat_minor": 0,
  "metadata": {
    "colab": {
      "name": "EP_Rec_541.ipynb",
      "provenance": [],
      "collapsed_sections": []
    },
    "kernelspec": {
      "name": "python3",
      "display_name": "Python 3"
    },
    "language_info": {
      "name": "python"
    }
  },
  "cells": [
    {
      "cell_type": "markdown",
      "metadata": {
        "id": "kz8tUIcarab7"
      },
      "source": [
        "Name:-M. P.Devi Priyanka\n",
        "\n",
        "Roll no.:- 19911A3541\n",
        "\n",
        "Branch:- AIE\n",
        "\n",
        "Year and Sem:- 2-2\n",
        "\n",
        "Academic Year:- 2020-2021"
      ]
    },
    {
      "cell_type": "markdown",
      "metadata": {
        "id": "Znln9uKuLbZd"
      },
      "source": [
        "# Exercise 1\n"
      ]
    },
    {
      "cell_type": "markdown",
      "metadata": {
        "id": "HAOaGfqcLdyS"
      },
      "source": [
        "**Installation and Environment setup of python**\n",
        "Step 1: Select Version of Python to Install. \n",
        "\n",
        "Step 2: Download Python Executable Installer.  \n",
        "\n",
        "Step 3: Run Executable Installer.\n",
        "\n",
        "Step 4: Verify Python Was Installed On Windows. \n",
        "\n",
        "Step 5: Verify Pip Was Installed.\n",
        "\n",
        "Step 6: Add Python Path to Environment Variables."
      ]
    },
    {
      "cell_type": "markdown",
      "metadata": {
        "id": "BRpFCkwENb6d"
      },
      "source": [
        "**Write a program to demonstrate the use of basic Data Types**"
      ]
    },
    {
      "cell_type": "code",
      "metadata": {
        "colab": {
          "base_uri": "https://localhost:8080/"
        },
        "id": "vplsA6FuKCYz",
        "outputId": "a408abb7-dace-456b-ba05-6f1fca637747"
      },
      "source": [
        "x = int (input('Enter a number : '))\n",
        "print('The number is : ',x,'and it is a of type : ',type(x))\n",
        "y = float (input('Enter a float number :'))\n",
        "print('The number is : ',y,'and it is a of type : ',type(y))\n",
        "z = 8-7j\n",
        "print('The number is : ',z,'and it is a of type : ',type(z))"
      ],
      "execution_count": null,
      "outputs": [
        {
          "output_type": "stream",
          "text": [
            "Enter a number : 3\n",
            "The number is :  3 and it is a of type :  <class 'int'>\n",
            "Enter a float number :1\n",
            "The number is :  1.0 and it is a of type :  <class 'float'>\n",
            "The number is :  (8-7j) and it is a of type :  <class 'complex'>\n"
          ],
          "name": "stdout"
        }
      ]
    },
    {
      "cell_type": "markdown",
      "metadata": {
        "id": "LOlWrsLlNhpO"
      },
      "source": [
        "**Write a program to demonstrate the Operators and Expressions**"
      ]
    },
    {
      "cell_type": "code",
      "metadata": {
        "colab": {
          "base_uri": "https://localhost:8080/"
        },
        "id": "6ZRhxOefNhTe",
        "outputId": "f40bf5d8-792b-410f-eba2-97c7ffa7948e"
      },
      "source": [
        "a = int (input('Enter a number :'))\n",
        "b = int (input('Enter a number :'))\n",
        "addn = a + b\n",
        "print('The sum of the entered numbers {} and {} is {}'.format(a,b,addn))\n",
        "c = int (input('Enter a number :'))\n",
        "d = int (input('Enter a number :'))\n",
        "subn = c - d\n",
        "print('The subtraction of the entered numbers {} and {} is {}'.format(c,d,subn))\n",
        "e = int (input('Enter a number :'))\n",
        "f = int (input('Enter a number :'))\n",
        "Multiplication = e * f\n",
        "print('The product of the entered numbers {} and {} is {}'.format(e,f,Multiplication))\n",
        "g = int (input('Enter a number :'))\n",
        "h = int (input('Enter a number :'))\n",
        "division = g/h\n",
        "print('The division of the entered numbers {} and {} is {}'.format(e,f,division))\n",
        "i = int (input('Enter a number :'))\n",
        "j = int (input('Enter a number :'))\n",
        "expn = i ** j\n",
        "print('The exponential of the entered numbers {} and {} is {}'.format(i,j,expn))\n",
        "k =  int (input('Enter a number :'))\n",
        "l =  int (input('Enter a number :'))\n",
        "Mod = k % l \n",
        "print('The modulus of the entered numbers {} and {} is {}'.format(k,l,Mod))\n",
        "m =  int (input('Enter a number :'))\n",
        "n =  int (input('Enter a number :'))\n",
        "floor = m // n\n",
        "print('The floor value of the entered numbers {} and {} is {}'.format(m,n,floor))\n",
        "x = 2\n",
        "y = 4\n",
        "str1 = 'x**2 + x ** y + x*y - (x/y)'\n",
        "a = x**2 + x ** y + x*y - (x/y)\n",
        "print('The value of the expression {} is {}'.format(str1,a))"
      ],
      "execution_count": null,
      "outputs": [
        {
          "output_type": "stream",
          "text": [
            "Enter a number :41\n",
            "Enter a number :58\n",
            "The sum of the entered numbers 41 and 58 is 99\n",
            "Enter a number :33\n",
            "Enter a number :21\n",
            "The subtraction of the entered numbers 33 and 21 is 12\n",
            "Enter a number :32\n",
            "Enter a number :46\n",
            "The product of the entered numbers 32 and 46 is 1472\n",
            "Enter a number :56\n",
            "Enter a number :60\n",
            "The division of the entered numbers 32 and 46 is 0.9333333333333333\n",
            "Enter a number :55\n",
            "Enter a number :31\n",
            "The exponential of the entered numbers 55 and 31 is 893806223560825365149168489928408525884151458740234375\n",
            "Enter a number :89\n",
            "Enter a number :98\n",
            "The modulus of the entered numbers 89 and 98 is 89\n",
            "Enter a number :78\n",
            "Enter a number :76\n",
            "The floor value of the entered numbers 78 and 76 is 1\n",
            "The value of the expression x**2 + x ** y + x*y - (x/y) is 27.5\n"
          ],
          "name": "stdout"
        }
      ]
    },
    {
      "cell_type": "markdown",
      "metadata": {
        "id": "axLK1BV4NwF-"
      },
      "source": [
        "**Write a program to demonstrate the Functions and parameter passing Techniques.**"
      ]
    },
    {
      "cell_type": "code",
      "metadata": {
        "colab": {
          "base_uri": "https://localhost:8080/"
        },
        "id": "Nu8c_2FR2FtA",
        "outputId": "6be0ef8a-355f-4227-9146-a7ec12df8c10"
      },
      "source": [
        "#1. Without parameters and without return type\n",
        "def sum():\n",
        "  a=int(input())\n",
        "  b=int(input())\n",
        "  c=a+b\n",
        "  print(c)\n",
        "sum()\n",
        "#2. Without paramters and with return type\n",
        "def sum():\n",
        "  a=int(input())\n",
        "  b=int(input())\n",
        "  c=a+b\n",
        "  return c\n",
        "print(sum())\n",
        "#3. With paramters and with return type\n",
        "a=int(input())\n",
        "b=int(input())\n",
        "def sum(a,b):\n",
        "  c=a+b\n",
        "  return c\n",
        "print(sum(a,b))\n",
        "#4. With paramters and without return type\n",
        "a=int(input())\n",
        "b=int(input())\n",
        "def sum(a,b):\n",
        "  c=a+b\n",
        "  print(c)\n",
        "sum(a,b)\n"
      ],
      "execution_count": null,
      "outputs": [
        {
          "output_type": "stream",
          "text": [
            "1\n",
            "2\n",
            "3\n",
            "4\n",
            "6\n",
            "10\n",
            "3\n",
            "6\n",
            "9\n",
            "6\n",
            "9\n",
            "15\n"
          ],
          "name": "stdout"
        }
      ]
    },
    {
      "cell_type": "markdown",
      "metadata": {
        "id": "8dIJmNZTORkt"
      },
      "source": [
        "# Exercise 2"
      ]
    },
    {
      "cell_type": "markdown",
      "metadata": {
        "id": "YzKfqooZOaf9"
      },
      "source": [
        "###Write a Program to Implement Packages Modules and Built in Functions"
      ]
    },
    {
      "cell_type": "code",
      "metadata": {
        "colab": {
          "base_uri": "https://localhost:8080/"
        },
        "id": "0LkvWn4hYsUV",
        "outputId": "2d97f212-0a59-4911-bd30-cd873412acf4"
      },
      "source": [
        "print(\"Absolute Value:\")\n",
        "a=int(input(\"Enter a value:\"))\n",
        "print(abs(a))\n",
        "print(\"\\nBinary Value:\")\n",
        "b=int(input(\"Enter a value: \"))\n",
        "print(bin(b))\n",
        "print(\"\\nQuotient and remainder of 45 and 9 are:\")\n",
        "print(divmod(45,9))\n",
        "print(\"\\nFloat Value\")\n",
        "c=input(\"Enter a value: \")\n",
        "print(float(c))\n",
        "print(\"\\nInt Value\")\n",
        "d=input(\"Enter a value: \")\n",
        "print(int(d))\n",
        "print(\"\\nMaximum Value of 10,78,5\")\n",
        "print(max(10,78,5))\n",
        "print(\"\\nPower function\")\n",
        "e=int(input(\"Enter a value: \"))\n",
        "f=int(input(\"Enter a value: \"))\n",
        "print(\"The power of the given values is: \",pow(e,f))\n",
        "print(\"\\nSquarer Root\")\n",
        "import math\n",
        "g=int(input(\"Enter a value: \"))\n",
        "print(\"The Square Root of the given number is : \",math.sqrt(g))"
      ],
      "execution_count": null,
      "outputs": [
        {
          "output_type": "stream",
          "text": [
            "Absolute Value:\n",
            "Enter a value:54\n",
            "54\n",
            "\n",
            "Binary Value:\n",
            "Enter a value: 67\n",
            "0b1000011\n",
            "\n",
            "Quotient and remainder of 45 and 9 are:\n",
            "(5, 0)\n",
            "\n",
            "Float Value\n",
            "Enter a value: 89\n",
            "89.0\n",
            "\n",
            "Int Value\n",
            "Enter a value: 8\n",
            "8\n",
            "\n",
            "Maximum Value of 10,78,5\n",
            "78\n",
            "\n",
            "Power function\n",
            "Enter a value: 77\n",
            "Enter a value: 90\n",
            "The power of the given values is:  60836646375089738827772895325058963868619710608275993919909664595969806866127678816330005053990641328942444787650477361759718397342524668625684026885445410310461256595849\n",
            "\n",
            "Squarer Root\n",
            "Enter a value: 6\n",
            "The Square Root of the given number is :  2.449489742783178\n"
          ],
          "name": "stdout"
        }
      ]
    },
    {
      "cell_type": "markdown",
      "metadata": {
        "id": "uA6KDPgLOxk8"
      },
      "source": [
        "Write a Program to implement\n",
        "\n",
        "i. List \n",
        "\n",
        "ii. Tuple \n",
        "\n",
        "iii. Dictionaries"
      ]
    },
    {
      "cell_type": "code",
      "metadata": {
        "colab": {
          "base_uri": "https://localhost:8080/"
        },
        "id": "SK9AU-56OwKK",
        "outputId": "696551b9-afc2-4fbf-a255-e6253c2c9540"
      },
      "source": [
        "test_list =['Hello',55,58,7,'AI','welcome',]\n",
        "print(test_list)\n",
        "test_tuples = ('Hello',1,2)\n",
        "print(test_tuples)\n",
        "test_dict = {'key1': 4+4,'key2': 7+7 ,'key4' :8+8}\n",
        "print(test_dict)"
      ],
      "execution_count": null,
      "outputs": [
        {
          "output_type": "stream",
          "text": [
            "['Hello', 55, 58, 7, 'AI', 'welcome']\n",
            "('Hello', 1, 2)\n",
            "{'key1': 8, 'key2': 14, 'key4': 16}\n"
          ],
          "name": "stdout"
        }
      ]
    },
    {
      "cell_type": "markdown",
      "metadata": {
        "id": "6lrdKS86O-uV"
      },
      "source": [
        "Programs on Stings, String Operations and Regular Expressions"
      ]
    },
    {
      "cell_type": "code",
      "metadata": {
        "id": "zndTK3uMPZIl",
        "colab": {
          "base_uri": "https://localhost:8080/"
        },
        "outputId": "eb1dbda2-7460-4cb3-d3e0-fbeb35e5e219"
      },
      "source": [
        "# String \n",
        "str1 = 'Hello, '\n",
        "str2 = 'this is xyz.'\n",
        "print(str1+str2)\n",
        "# String operations\n",
        "s = \"Hey there! what should this string be?\"\n",
        "print(\"Length of s = %d\" % len(s))\n",
        "print(\"The first occurrence of the letter a = %d\" % s.index(\"a\"))\n",
        "print(\"a occurs %d times\" % s.count(\"a\"))\n",
        "print(\"The first five characters are '%s'\" % s[:5]) \n",
        "print(\"The next five characters are '%s'\" % s[5:10]) \n",
        "print(\"The thirteenth character is '%s'\" % s[12]) \n",
        "print(\"The characters with odd index are '%s'\" %s[1::2])\n",
        "print(\"The last five characters are '%s'\" % s[-5:]) \n",
        "\n",
        "print(\"String in uppercase: %s\" % s.upper())\n",
        "\n",
        "print(\"String in lowercase: %s\" % s.lower())\n",
        "\n",
        "\n",
        "if s.startswith(\"Str\"):\n",
        "    print(\"String starts with 'Str'. Good!\")\n",
        "\n",
        "\n",
        "if s.endswith(\"ome!\"):\n",
        "    print(\"String ends with 'ome!'. Good!\")\n",
        "\n",
        "print(\"Split the words of the string: %s\" % s.split(\" \"))\n",
        "#regular Expression\n",
        "import re\n",
        "p = re.compile('[a-e]')\n",
        "print(p.findall(\"Aye, said Mr. Gibenson Stark\"))\n"
      ],
      "execution_count": null,
      "outputs": [
        {
          "output_type": "stream",
          "text": [
            "Hello, this is xyz.\n",
            "Length of s = 38\n",
            "The first occurrence of the letter a = 13\n",
            "a occurs 1 times\n",
            "The first five characters are 'Hey t'\n",
            "The next five characters are 'here!'\n",
            "The thirteenth character is 'h'\n",
            "The characters with odd index are 'e hr!wa hudti tigb?'\n",
            "The last five characters are 'g be?'\n",
            "String in uppercase: HEY THERE! WHAT SHOULD THIS STRING BE?\n",
            "String in lowercase: hey there! what should this string be?\n",
            "Split the words of the string: ['Hey', 'there!', 'what', 'should', 'this', 'string', 'be?']\n",
            "['e', 'a', 'd', 'b', 'e', 'a']\n"
          ],
          "name": "stdout"
        }
      ]
    },
    {
      "cell_type": "markdown",
      "metadata": {
        "id": "xoPtV33cPdj0"
      },
      "source": [
        "# Exercise 3"
      ]
    },
    {
      "cell_type": "markdown",
      "metadata": {
        "id": "agp8_c05PgfN"
      },
      "source": [
        "Write a Program to implement Class and Object"
      ]
    },
    {
      "cell_type": "code",
      "metadata": {
        "colab": {
          "base_uri": "https://localhost:8080/"
        },
        "id": "xa3s2_JSPiDN",
        "outputId": "b0aa2d15-fd59-46d8-d16b-d4277e8337fd"
      },
      "source": [
        "#CLASS\n",
        "class employee:\n",
        "  \"This is a employee class\"\n",
        "  salary=100000\n",
        "\n",
        "  def greet(self):\n",
        "    return \"Good evening\"\n",
        "#OBJECT\n",
        "p1=employee\n",
        "print(p1.salary)\n",
        "print(p1.greet('Hello'))"
      ],
      "execution_count": null,
      "outputs": [
        {
          "output_type": "stream",
          "text": [
            "100000\n",
            "Good evening\n"
          ],
          "name": "stdout"
        }
      ]
    },
    {
      "cell_type": "markdown",
      "metadata": {
        "id": "LeiV_G58PieF"
      },
      "source": [
        "Write a Program to implement Static and Instance methods, Abstract Classes and \n",
        "Interfaces."
      ]
    },
    {
      "cell_type": "code",
      "metadata": {
        "id": "2gashWovPl_V",
        "colab": {
          "base_uri": "https://localhost:8080/"
        },
        "outputId": "16d6e277-cdd8-4394-be7a-1e293cb48fd0"
      },
      "source": [
        "#static method\n",
        "class Mathematics:\n",
        "\n",
        "    def addNumbers(x, y):\n",
        "        return x + y\n",
        "\n",
        "# create addNumbers static method\n",
        "Mathematics.addNumbers = staticmethod(Mathematics.addNumbers)\n",
        "\n",
        "print('The sum is:', Mathematics.addNumbers(15, 10))"
      ],
      "execution_count": null,
      "outputs": [
        {
          "output_type": "stream",
          "text": [
            "The sum is: 25\n"
          ],
          "name": "stdout"
        }
      ]
    },
    {
      "cell_type": "code",
      "metadata": {
        "id": "-pqDw7-w3duJ",
        "colab": {
          "base_uri": "https://localhost:8080/"
        },
        "outputId": "0921ca66-bbe3-4fb8-cf1d-f5a1b42507af"
      },
      "source": [
        "#instance method\n",
        "# Python program to demonstrate\n",
        "# instance methods\n",
        "\n",
        "\n",
        "class shape:\n",
        "\t\n",
        "\t# Calling Constructor\n",
        "\tdef __init__(self, edge, color):\n",
        "\t\tself.edge = edge\n",
        "\t\tself.color = color\n",
        "\t\t\n",
        "\t# Instance Method\n",
        "\tdef finEdges(self):\n",
        "\t\treturn self.edge\n",
        "\t\t\n",
        "\t# Instance Method\n",
        "\tdef modifyEdges(self, newedge):\n",
        "\t\tself.edge = newedge\n",
        "\t\t\n",
        "# Driver Code\n",
        "circle = shape(0, 'red')\n",
        "square = shape(4, 'blue')\n",
        "\n",
        "# Calling Instance Method\n",
        "print(\"No. of edges for circle: \"+ str(circle.finEdges()))\n",
        "\n",
        "# Calling Instance Method\n",
        "square.modifyEdges(6)\n",
        "\n",
        "print(\"No. of edges for square: \"+ str(square.finEdges()))\n"
      ],
      "execution_count": null,
      "outputs": [
        {
          "output_type": "stream",
          "text": [
            "No. of edges for circle: 0\n",
            "No. of edges for square: 6\n"
          ],
          "name": "stdout"
        }
      ]
    },
    {
      "cell_type": "code",
      "metadata": {
        "id": "FqR4gL0n3ooB",
        "colab": {
          "base_uri": "https://localhost:8080/"
        },
        "outputId": "5156645c-8c23-480f-beb7-1cce7a26eb0e"
      },
      "source": [
        "#abstract class\n",
        "# Python program showing\n",
        "# abstract base class work\n",
        "\n",
        "from abc import ABC, abstractmethod\n",
        "\n",
        "class Polygon(ABC):\n",
        "\n",
        "\t@abstractmethod\n",
        "\tdef noofsides(self):\n",
        "\t\tpass\n",
        "\n",
        "class Triangle(Polygon):\n",
        "\n",
        "\t# overriding abstract method\n",
        "\tdef noofsides(self):\n",
        "\t\tprint(\"I have 3 sides\")\n",
        "\n",
        "class Pentagon(Polygon):\n",
        "\n",
        "\t# overriding abstract method\n",
        "\tdef noofsides(self):\n",
        "\t\tprint(\"I have 4 sides\")\n",
        "\n",
        "class Hexagon(Polygon):\n",
        "\n",
        "\t# overriding abstract method\n",
        "\tdef noofsides(self):\n",
        "\t\tprint(\"I have 5 sides\")\n",
        "\n",
        "class Quadrilateral(Polygon):\n",
        "\n",
        "\t# overriding abstract method\n",
        "\tdef noofsides(self):\n",
        "\t\tprint(\"I have 6 sides\")\n",
        "\n",
        "# Driver code\n",
        "R = Triangle()\n",
        "R.noofsides()\n",
        "\n",
        "K = Quadrilateral()\n",
        "K.noofsides()\n",
        "\n",
        "R = Pentagon()\n",
        "R.noofsides()\n",
        "\n",
        "K = Hexagon()\n",
        "K.noofsides()\n"
      ],
      "execution_count": null,
      "outputs": [
        {
          "output_type": "stream",
          "text": [
            "I have 3 sides\n",
            "I have 6 sides\n",
            "I have 4 sides\n",
            "I have 5 sides\n"
          ],
          "name": "stdout"
        }
      ]
    },
    {
      "cell_type": "code",
      "metadata": {
        "colab": {
          "base_uri": "https://localhost:8080/"
        },
        "id": "_MY-9QUNDyGg",
        "outputId": "6e733420-c29b-4b7c-d45a-948a1bcbca9e"
      },
      "source": [
        "#Write a program to compute distance between two points taking input from the user (Pythagorean Theorem)\n",
        "import math\n",
        "input1 = int (input('Enter a first number :'))\n",
        "input2 = int (input('Enter a second number :'))\n",
        "distance = input1**2 + input2**2\n",
        "print(distance)\n",
        "math.sqrt(distance)"
      ],
      "execution_count": null,
      "outputs": [
        {
          "output_type": "stream",
          "text": [
            "Enter a first number :43\n",
            "Enter a second number :78\n",
            "7933\n"
          ],
          "name": "stdout"
        },
        {
          "output_type": "execute_result",
          "data": {
            "text/plain": [
              "89.06739021662193"
            ]
          },
          "metadata": {
            "tags": []
          },
          "execution_count": 16
        }
      ]
    },
    {
      "cell_type": "markdown",
      "metadata": {
        "id": "xlOx_-5IPqdd"
      },
      "source": [
        "# Exercise 4"
      ]
    },
    {
      "cell_type": "markdown",
      "metadata": {
        "id": "8M55GehuPvKl"
      },
      "source": [
        "Write a program to implement Inheritance and Polymorphism"
      ]
    },
    {
      "cell_type": "code",
      "metadata": {
        "id": "YFS9owJCPx1u",
        "colab": {
          "base_uri": "https://localhost:8080/"
        },
        "outputId": "6fef389e-2a63-4fb0-ef48-9824aa08ce69"
      },
      "source": [
        "#Inheritance \n",
        "class Person(object):\n",
        "    def __init__(self, name):\n",
        "        self.name = name\n",
        "\n",
        "    def get_name_of_the_person(self):\n",
        "        return self.name\n",
        "\n",
        "    def is_Employee(self):\n",
        "        return False\n",
        "   \n",
        "# Subclass.\n",
        "class Employee(Person):\n",
        "   \n",
        "    # Here we return true\n",
        "    def is_Employee(self):\n",
        "        return True\n",
        "   \n",
        "# Driver code\n",
        "emp = Person(\"Priyanka\")\n",
        "print(emp.get_name_of_the_person(), emp.is_Employee())\n",
        "   \n",
        "emp = Employee(\"Ad\") # An Object of Employee\n",
        "print(emp.get_name_of_the_person(), emp.is_Employee())"
      ],
      "execution_count": null,
      "outputs": [
        {
          "output_type": "stream",
          "text": [
            "Priyanka False\n",
            "Ad True\n"
          ],
          "name": "stdout"
        }
      ]
    },
    {
      "cell_type": "code",
      "metadata": {
        "id": "8vGaW5tbg4Ps",
        "colab": {
          "base_uri": "https://localhost:8080/"
        },
        "outputId": "3666eb67-16cc-4356-8a9d-7184e613008c"
      },
      "source": [
        "#polymorphism\n",
        "class Student():\n",
        "    def name(self):\n",
        "        print(\"Name of the student is abc.\")\n",
        "  \n",
        "    def language(self):\n",
        "        print(\"he speaks English and Telugu.\")\n",
        "  \n",
        "    def type(self):\n",
        "        print(\"he is one of the average students in his class.\")\n",
        "\n",
        "class Faculty():\n",
        "    def name(self):\n",
        "        print()\n",
        "        print(\"Name of the faculty is XYZ.\")\n",
        "  \n",
        "    def language(self):\n",
        "        print(\"He speaks English. \")\n",
        "  \n",
        "    def type(self):\n",
        "        print(\"He is one of the best faculty in his department.\")\n",
        "  \n",
        "obj_student = Student()\n",
        "obj_faculty = Faculty()\n",
        "for elements in (obj_student, obj_faculty):\n",
        "    elements.name()\n",
        "    elements.language()\n",
        "    elements.type()"
      ],
      "execution_count": null,
      "outputs": [
        {
          "output_type": "stream",
          "text": [
            "Name of the student is abc.\n",
            "he speaks English and Telugu.\n",
            "he is one of the average students in his class.\n",
            "\n",
            "Name of the faculty is XYZ.\n",
            "He speaks English. \n",
            "He is one of the best faculty in his department.\n"
          ],
          "name": "stdout"
        }
      ]
    },
    {
      "cell_type": "markdown",
      "metadata": {
        "id": "Wg1SmEC0P0eE"
      },
      "source": [
        "Write a program to implement Files"
      ]
    },
    {
      "cell_type": "code",
      "metadata": {
        "colab": {
          "base_uri": "https://localhost:8080/"
        },
        "id": "bpAo7AtQP08k",
        "outputId": "f8195422-4c9c-40ac-8d62-2c2bcd9442ae"
      },
      "source": [
        "# Writing a file.\n",
        "file_object = open('1st_file.txt',\"w+\")\n",
        "for i in range(4):\n",
        "  file_object.write(\"Never ever give Up.\\n\")\n",
        "file_object.close()\n",
        "\n",
        "# Reading the file.\n",
        "file_object = open ('1st_file.txt',\"r\")\n",
        "if file_object.mode == 'r':\n",
        "  words = file_object.read()\n",
        "print(words)\n",
        "\n",
        "# Appending a file\n",
        "\n",
        "file_object = open('1st_file.txt',\"a+\")\n",
        "for i in range(0,4,2):\n",
        "     file_object.write(\"Priyanka\\n\")\n",
        "file_object.close()\n",
        "# Reading after appending.\n",
        "file_object = open('1st_file.txt',\"r\")\n",
        "\n",
        "if file_object.mode == \"r\":\n",
        "  contents = file_object.read()\n",
        "print(contents)# Appending a file\n",
        "\n",
        "file_object = open('1st_file.txt',\"a+\")\n",
        "for i in range(0,4,2):\n",
        "     file_object.write(\"Priyanka\\n\")\n",
        "file_object.close()\n",
        "# Reading after appending.\n",
        "file_object = open('1st_file.txt',\"r\")\n",
        "\n",
        "if file_object.mode == \"r\":\n",
        "  contents = file_object.read()\n",
        "print(contents)\n"
      ],
      "execution_count": null,
      "outputs": [
        {
          "output_type": "stream",
          "text": [
            "Never ever give Up.\n",
            "Never ever give Up.\n",
            "Never ever give Up.\n",
            "Never ever give Up.\n",
            "\n",
            "Never ever give Up.\n",
            "Never ever give Up.\n",
            "Never ever give Up.\n",
            "Never ever give Up.\n",
            "Priyanka\n",
            "Priyanka\n",
            "\n",
            "Never ever give Up.\n",
            "Never ever give Up.\n",
            "Never ever give Up.\n",
            "Never ever give Up.\n",
            "Priyanka\n",
            "Priyanka\n",
            "Priyanka\n",
            "Priyanka\n",
            "\n"
          ],
          "name": "stdout"
        }
      ]
    },
    {
      "cell_type": "markdown",
      "metadata": {
        "id": "yA6P_M2YP3RU"
      },
      "source": [
        "Write a program to illustrate Handling."
      ]
    },
    {
      "cell_type": "code",
      "metadata": {
        "colab": {
          "base_uri": "https://localhost:8080/"
        },
        "id": "EJs-P6kcP4Qc",
        "outputId": "718f8f09-cf6f-4a03-f784-a964e3ddccc1"
      },
      "source": [
        "#zero divison Error\n",
        "var1 = int (input('Enter a number from (0-9) :'))\n",
        "var2 = int (input('Enter a number from (0-9) :'))\n",
        "print(\"zero divison error\")\n",
        "try :\n",
        "  division = var1/var2\n",
        "  print('The divsion of two variables {} and {} is {}'.format(var1,var2,division))\n",
        "\n",
        "except (ZeroDivisionError):\n",
        "  print('Cant divide the {} and {}'.format(var1,var2))\n",
        "#index error\n",
        "lst = [2,4,6,8,12,32,441,100]\n",
        "print('Total no of elements in the list are : ',len(lst))\n",
        "i = int(input('Enter an index number below {} : '.format(len(lst))))\n",
        "print(\"index error\")\n",
        "try:\n",
        "  lst[i]\n",
        "  print('The value at {} location is {}'.format(i,lst[i]))\n",
        "except IndexError:\n",
        "  print('Element cannot be found !!')"
      ],
      "execution_count": null,
      "outputs": [
        {
          "output_type": "stream",
          "text": [
            "Enter a number from (0-9) :7\n",
            "Enter a number from (0-9) :4\n",
            "zero divison error\n",
            "The divsion of two variables 7 and 4 is 1.75\n",
            "Total no of elements in the list are :  8\n",
            "Enter an index number below 8 : 3\n",
            "index error\n",
            "The value at 3 location is 8\n"
          ],
          "name": "stdout"
        }
      ]
    },
    {
      "cell_type": "markdown",
      "metadata": {
        "id": "lI7xMsrYP92N"
      },
      "source": [
        "# Exercise 5"
      ]
    },
    {
      "cell_type": "markdown",
      "metadata": {
        "id": "IAIVvmM9QJtG"
      },
      "source": [
        "Write a program using scikit-learn to implement K-means Clustering"
      ]
    },
    {
      "cell_type": "code",
      "metadata": {
        "id": "rYFkBZHkKoMm"
      },
      "source": [
        "import numpy as np\n",
        "import pandas as pd\n",
        "import matplotlib.pyplot as plt\n",
        "from sklearn.cluster import KMeans"
      ],
      "execution_count": null,
      "outputs": []
    },
    {
      "cell_type": "code",
      "metadata": {
        "colab": {
          "base_uri": "https://localhost:8080/",
          "height": 359
        },
        "id": "bgZ4n5hFNGUv",
        "outputId": "098eb442-933e-4d50-b589-46f51eccc0b4"
      },
      "source": [
        "df = pd.read_csv('Iris.csv')\n",
        "df.head(10)"
      ],
      "execution_count": null,
      "outputs": [
        {
          "output_type": "execute_result",
          "data": {
            "text/html": [
              "<div>\n",
              "<style scoped>\n",
              "    .dataframe tbody tr th:only-of-type {\n",
              "        vertical-align: middle;\n",
              "    }\n",
              "\n",
              "    .dataframe tbody tr th {\n",
              "        vertical-align: top;\n",
              "    }\n",
              "\n",
              "    .dataframe thead th {\n",
              "        text-align: right;\n",
              "    }\n",
              "</style>\n",
              "<table border=\"1\" class=\"dataframe\">\n",
              "  <thead>\n",
              "    <tr style=\"text-align: right;\">\n",
              "      <th></th>\n",
              "      <th>Id</th>\n",
              "      <th>SepalLengthCm</th>\n",
              "      <th>SepalWidthCm</th>\n",
              "      <th>PetalLengthCm</th>\n",
              "      <th>PetalWidthCm</th>\n",
              "      <th>Species</th>\n",
              "    </tr>\n",
              "  </thead>\n",
              "  <tbody>\n",
              "    <tr>\n",
              "      <th>0</th>\n",
              "      <td>1</td>\n",
              "      <td>5.1</td>\n",
              "      <td>3.5</td>\n",
              "      <td>1.4</td>\n",
              "      <td>0.2</td>\n",
              "      <td>Iris-setosa</td>\n",
              "    </tr>\n",
              "    <tr>\n",
              "      <th>1</th>\n",
              "      <td>2</td>\n",
              "      <td>4.9</td>\n",
              "      <td>3.0</td>\n",
              "      <td>1.4</td>\n",
              "      <td>0.2</td>\n",
              "      <td>Iris-setosa</td>\n",
              "    </tr>\n",
              "    <tr>\n",
              "      <th>2</th>\n",
              "      <td>3</td>\n",
              "      <td>4.7</td>\n",
              "      <td>3.2</td>\n",
              "      <td>1.3</td>\n",
              "      <td>0.2</td>\n",
              "      <td>Iris-setosa</td>\n",
              "    </tr>\n",
              "    <tr>\n",
              "      <th>3</th>\n",
              "      <td>4</td>\n",
              "      <td>4.6</td>\n",
              "      <td>3.1</td>\n",
              "      <td>1.5</td>\n",
              "      <td>0.2</td>\n",
              "      <td>Iris-setosa</td>\n",
              "    </tr>\n",
              "    <tr>\n",
              "      <th>4</th>\n",
              "      <td>5</td>\n",
              "      <td>5.0</td>\n",
              "      <td>3.6</td>\n",
              "      <td>1.4</td>\n",
              "      <td>0.2</td>\n",
              "      <td>Iris-setosa</td>\n",
              "    </tr>\n",
              "    <tr>\n",
              "      <th>5</th>\n",
              "      <td>6</td>\n",
              "      <td>5.4</td>\n",
              "      <td>3.9</td>\n",
              "      <td>1.7</td>\n",
              "      <td>0.4</td>\n",
              "      <td>Iris-setosa</td>\n",
              "    </tr>\n",
              "    <tr>\n",
              "      <th>6</th>\n",
              "      <td>7</td>\n",
              "      <td>4.6</td>\n",
              "      <td>3.4</td>\n",
              "      <td>1.4</td>\n",
              "      <td>0.3</td>\n",
              "      <td>Iris-setosa</td>\n",
              "    </tr>\n",
              "    <tr>\n",
              "      <th>7</th>\n",
              "      <td>8</td>\n",
              "      <td>5.0</td>\n",
              "      <td>3.4</td>\n",
              "      <td>1.5</td>\n",
              "      <td>0.2</td>\n",
              "      <td>Iris-setosa</td>\n",
              "    </tr>\n",
              "    <tr>\n",
              "      <th>8</th>\n",
              "      <td>9</td>\n",
              "      <td>4.4</td>\n",
              "      <td>2.9</td>\n",
              "      <td>1.4</td>\n",
              "      <td>0.2</td>\n",
              "      <td>Iris-setosa</td>\n",
              "    </tr>\n",
              "    <tr>\n",
              "      <th>9</th>\n",
              "      <td>10</td>\n",
              "      <td>4.9</td>\n",
              "      <td>3.1</td>\n",
              "      <td>1.5</td>\n",
              "      <td>0.1</td>\n",
              "      <td>Iris-setosa</td>\n",
              "    </tr>\n",
              "  </tbody>\n",
              "</table>\n",
              "</div>"
            ],
            "text/plain": [
              "   Id  SepalLengthCm  SepalWidthCm  PetalLengthCm  PetalWidthCm      Species\n",
              "0   1            5.1           3.5            1.4           0.2  Iris-setosa\n",
              "1   2            4.9           3.0            1.4           0.2  Iris-setosa\n",
              "2   3            4.7           3.2            1.3           0.2  Iris-setosa\n",
              "3   4            4.6           3.1            1.5           0.2  Iris-setosa\n",
              "4   5            5.0           3.6            1.4           0.2  Iris-setosa\n",
              "5   6            5.4           3.9            1.7           0.4  Iris-setosa\n",
              "6   7            4.6           3.4            1.4           0.3  Iris-setosa\n",
              "7   8            5.0           3.4            1.5           0.2  Iris-setosa\n",
              "8   9            4.4           2.9            1.4           0.2  Iris-setosa\n",
              "9  10            4.9           3.1            1.5           0.1  Iris-setosa"
            ]
          },
          "metadata": {
            "tags": []
          },
          "execution_count": 31
        }
      ]
    },
    {
      "cell_type": "code",
      "metadata": {
        "colab": {
          "base_uri": "https://localhost:8080/"
        },
        "id": "2EDYdoU-K4OU",
        "outputId": "4c7a3f87-7d96-43ea-a114-26047a8e6476"
      },
      "source": [
        "x = df.iloc[:, [0,1,2,3]].values\n",
        "x"
      ],
      "execution_count": null,
      "outputs": [
        {
          "output_type": "execute_result",
          "data": {
            "text/plain": [
              "array([[  1. ,   5.1,   3.5,   1.4],\n",
              "       [  2. ,   4.9,   3. ,   1.4],\n",
              "       [  3. ,   4.7,   3.2,   1.3],\n",
              "       [  4. ,   4.6,   3.1,   1.5],\n",
              "       [  5. ,   5. ,   3.6,   1.4],\n",
              "       [  6. ,   5.4,   3.9,   1.7],\n",
              "       [  7. ,   4.6,   3.4,   1.4],\n",
              "       [  8. ,   5. ,   3.4,   1.5],\n",
              "       [  9. ,   4.4,   2.9,   1.4],\n",
              "       [ 10. ,   4.9,   3.1,   1.5],\n",
              "       [ 11. ,   5.4,   3.7,   1.5],\n",
              "       [ 12. ,   4.8,   3.4,   1.6],\n",
              "       [ 13. ,   4.8,   3. ,   1.4],\n",
              "       [ 14. ,   4.3,   3. ,   1.1],\n",
              "       [ 15. ,   5.8,   4. ,   1.2],\n",
              "       [ 16. ,   5.7,   4.4,   1.5],\n",
              "       [ 17. ,   5.4,   3.9,   1.3],\n",
              "       [ 18. ,   5.1,   3.5,   1.4],\n",
              "       [ 19. ,   5.7,   3.8,   1.7],\n",
              "       [ 20. ,   5.1,   3.8,   1.5],\n",
              "       [ 21. ,   5.4,   3.4,   1.7],\n",
              "       [ 22. ,   5.1,   3.7,   1.5],\n",
              "       [ 23. ,   4.6,   3.6,   1. ],\n",
              "       [ 24. ,   5.1,   3.3,   1.7],\n",
              "       [ 25. ,   4.8,   3.4,   1.9],\n",
              "       [ 26. ,   5. ,   3. ,   1.6],\n",
              "       [ 27. ,   5. ,   3.4,   1.6],\n",
              "       [ 28. ,   5.2,   3.5,   1.5],\n",
              "       [ 29. ,   5.2,   3.4,   1.4],\n",
              "       [ 30. ,   4.7,   3.2,   1.6],\n",
              "       [ 31. ,   4.8,   3.1,   1.6],\n",
              "       [ 32. ,   5.4,   3.4,   1.5],\n",
              "       [ 33. ,   5.2,   4.1,   1.5],\n",
              "       [ 34. ,   5.5,   4.2,   1.4],\n",
              "       [ 35. ,   4.9,   3.1,   1.5],\n",
              "       [ 36. ,   5. ,   3.2,   1.2],\n",
              "       [ 37. ,   5.5,   3.5,   1.3],\n",
              "       [ 38. ,   4.9,   3.1,   1.5],\n",
              "       [ 39. ,   4.4,   3. ,   1.3],\n",
              "       [ 40. ,   5.1,   3.4,   1.5],\n",
              "       [ 41. ,   5. ,   3.5,   1.3],\n",
              "       [ 42. ,   4.5,   2.3,   1.3],\n",
              "       [ 43. ,   4.4,   3.2,   1.3],\n",
              "       [ 44. ,   5. ,   3.5,   1.6],\n",
              "       [ 45. ,   5.1,   3.8,   1.9],\n",
              "       [ 46. ,   4.8,   3. ,   1.4],\n",
              "       [ 47. ,   5.1,   3.8,   1.6],\n",
              "       [ 48. ,   4.6,   3.2,   1.4],\n",
              "       [ 49. ,   5.3,   3.7,   1.5],\n",
              "       [ 50. ,   5. ,   3.3,   1.4],\n",
              "       [ 51. ,   7. ,   3.2,   4.7],\n",
              "       [ 52. ,   6.4,   3.2,   4.5],\n",
              "       [ 53. ,   6.9,   3.1,   4.9],\n",
              "       [ 54. ,   5.5,   2.3,   4. ],\n",
              "       [ 55. ,   6.5,   2.8,   4.6],\n",
              "       [ 56. ,   5.7,   2.8,   4.5],\n",
              "       [ 57. ,   6.3,   3.3,   4.7],\n",
              "       [ 58. ,   4.9,   2.4,   3.3],\n",
              "       [ 59. ,   6.6,   2.9,   4.6],\n",
              "       [ 60. ,   5.2,   2.7,   3.9],\n",
              "       [ 61. ,   5. ,   2. ,   3.5],\n",
              "       [ 62. ,   5.9,   3. ,   4.2],\n",
              "       [ 63. ,   6. ,   2.2,   4. ],\n",
              "       [ 64. ,   6.1,   2.9,   4.7],\n",
              "       [ 65. ,   5.6,   2.9,   3.6],\n",
              "       [ 66. ,   6.7,   3.1,   4.4],\n",
              "       [ 67. ,   5.6,   3. ,   4.5],\n",
              "       [ 68. ,   5.8,   2.7,   4.1],\n",
              "       [ 69. ,   6.2,   2.2,   4.5],\n",
              "       [ 70. ,   5.6,   2.5,   3.9],\n",
              "       [ 71. ,   5.9,   3.2,   4.8],\n",
              "       [ 72. ,   6.1,   2.8,   4. ],\n",
              "       [ 73. ,   6.3,   2.5,   4.9],\n",
              "       [ 74. ,   6.1,   2.8,   4.7],\n",
              "       [ 75. ,   6.4,   2.9,   4.3],\n",
              "       [ 76. ,   6.6,   3. ,   4.4],\n",
              "       [ 77. ,   6.8,   2.8,   4.8],\n",
              "       [ 78. ,   6.7,   3. ,   5. ],\n",
              "       [ 79. ,   6. ,   2.9,   4.5],\n",
              "       [ 80. ,   5.7,   2.6,   3.5],\n",
              "       [ 81. ,   5.5,   2.4,   3.8],\n",
              "       [ 82. ,   5.5,   2.4,   3.7],\n",
              "       [ 83. ,   5.8,   2.7,   3.9],\n",
              "       [ 84. ,   6. ,   2.7,   5.1],\n",
              "       [ 85. ,   5.4,   3. ,   4.5],\n",
              "       [ 86. ,   6. ,   3.4,   4.5],\n",
              "       [ 87. ,   6.7,   3.1,   4.7],\n",
              "       [ 88. ,   6.3,   2.3,   4.4],\n",
              "       [ 89. ,   5.6,   3. ,   4.1],\n",
              "       [ 90. ,   5.5,   2.5,   4. ],\n",
              "       [ 91. ,   5.5,   2.6,   4.4],\n",
              "       [ 92. ,   6.1,   3. ,   4.6],\n",
              "       [ 93. ,   5.8,   2.6,   4. ],\n",
              "       [ 94. ,   5. ,   2.3,   3.3],\n",
              "       [ 95. ,   5.6,   2.7,   4.2],\n",
              "       [ 96. ,   5.7,   3. ,   4.2],\n",
              "       [ 97. ,   5.7,   2.9,   4.2],\n",
              "       [ 98. ,   6.2,   2.9,   4.3],\n",
              "       [ 99. ,   5.1,   2.5,   3. ],\n",
              "       [100. ,   5.7,   2.8,   4.1],\n",
              "       [101. ,   6.3,   3.3,   6. ],\n",
              "       [102. ,   5.8,   2.7,   5.1],\n",
              "       [103. ,   7.1,   3. ,   5.9],\n",
              "       [104. ,   6.3,   2.9,   5.6],\n",
              "       [105. ,   6.5,   3. ,   5.8],\n",
              "       [106. ,   7.6,   3. ,   6.6],\n",
              "       [107. ,   4.9,   2.5,   4.5],\n",
              "       [108. ,   7.3,   2.9,   6.3],\n",
              "       [109. ,   6.7,   2.5,   5.8],\n",
              "       [110. ,   7.2,   3.6,   6.1],\n",
              "       [111. ,   6.5,   3.2,   5.1],\n",
              "       [112. ,   6.4,   2.7,   5.3],\n",
              "       [113. ,   6.8,   3. ,   5.5],\n",
              "       [114. ,   5.7,   2.5,   5. ],\n",
              "       [115. ,   5.8,   2.8,   5.1],\n",
              "       [116. ,   6.4,   3.2,   5.3],\n",
              "       [117. ,   6.5,   3. ,   5.5],\n",
              "       [118. ,   7.7,   3.8,   6.7],\n",
              "       [119. ,   7.7,   2.6,   6.9],\n",
              "       [120. ,   6. ,   2.2,   5. ],\n",
              "       [121. ,   6.9,   3.2,   5.7],\n",
              "       [122. ,   5.6,   2.8,   4.9],\n",
              "       [123. ,   7.7,   2.8,   6.7],\n",
              "       [124. ,   6.3,   2.7,   4.9],\n",
              "       [125. ,   6.7,   3.3,   5.7],\n",
              "       [126. ,   7.2,   3.2,   6. ],\n",
              "       [127. ,   6.2,   2.8,   4.8],\n",
              "       [128. ,   6.1,   3. ,   4.9],\n",
              "       [129. ,   6.4,   2.8,   5.6],\n",
              "       [130. ,   7.2,   3. ,   5.8],\n",
              "       [131. ,   7.4,   2.8,   6.1],\n",
              "       [132. ,   7.9,   3.8,   6.4],\n",
              "       [133. ,   6.4,   2.8,   5.6],\n",
              "       [134. ,   6.3,   2.8,   5.1],\n",
              "       [135. ,   6.1,   2.6,   5.6],\n",
              "       [136. ,   7.7,   3. ,   6.1],\n",
              "       [137. ,   6.3,   3.4,   5.6],\n",
              "       [138. ,   6.4,   3.1,   5.5],\n",
              "       [139. ,   6. ,   3. ,   4.8],\n",
              "       [140. ,   6.9,   3.1,   5.4],\n",
              "       [141. ,   6.7,   3.1,   5.6],\n",
              "       [142. ,   6.9,   3.1,   5.1],\n",
              "       [143. ,   5.8,   2.7,   5.1],\n",
              "       [144. ,   6.8,   3.2,   5.9],\n",
              "       [145. ,   6.7,   3.3,   5.7],\n",
              "       [146. ,   6.7,   3. ,   5.2],\n",
              "       [147. ,   6.3,   2.5,   5. ],\n",
              "       [148. ,   6.5,   3. ,   5.2],\n",
              "       [149. ,   6.2,   3.4,   5.4],\n",
              "       [150. ,   5.9,   3. ,   5.1]])"
            ]
          },
          "metadata": {
            "tags": []
          },
          "execution_count": 32
        }
      ]
    },
    {
      "cell_type": "code",
      "metadata": {
        "colab": {
          "base_uri": "https://localhost:8080/",
          "height": 333
        },
        "id": "69wfOk1g0Wih",
        "outputId": "bd44bb4f-e464-4136-9d54-6bf500bbfa8d"
      },
      "source": [
        "import matplotlib.pyplot as plt\n",
        "%matplotlib inline\n",
        "import numpy as np\n",
        "from sklearn.cluster import KMeans\n",
        "X = np.array([[5,3],\n",
        "     [10,15],\n",
        "     [15,12],\n",
        "     [24,10],\n",
        "     [30,45],\n",
        "     [85,70],\n",
        "     [71,80],\n",
        "     [60,78],\n",
        "     [55,52],\n",
        "     [80,91],])\n",
        "plt.scatter(X[:,0],X[:,1], label='True Position')\n",
        "kmeans = KMeans(n_clusters=2)\n",
        "kmeans.fit(X)\n",
        "print(kmeans.cluster_centers_)\n",
        "print(kmeans.labels_)\n",
        "plt.scatter(X[:,0],X[:,1], c=kmeans.labels_, cmap='rainbow')\n",
        "plt.scatter(X[:,0], X[:,1], c=kmeans.labels_, cmap='rainbow')\n",
        "plt.scatter(kmeans.cluster_centers_[:,0] ,kmeans.cluster_centers_[:,1], color='black')"
      ],
      "execution_count": null,
      "outputs": [
        {
          "output_type": "stream",
          "text": [
            "[[16.8 17. ]\n",
            " [70.2 74.2]]\n",
            "[0 0 0 0 0 1 1 1 1 1]\n"
          ],
          "name": "stdout"
        },
        {
          "output_type": "execute_result",
          "data": {
            "text/plain": [
              "<matplotlib.collections.PathCollection at 0x7ff94cdcdf10>"
            ]
          },
          "metadata": {
            "tags": []
          },
          "execution_count": 33
        },
        {
          "output_type": "display_data",
          "data": {
            "image/png": "[encoded data removed]",
            "text/plain": [
              "<Figure size 432x288 with 1 Axes>"
            ]
          },
          "metadata": {
            "tags": [],
            "needs_background": "light"
          }
        }
      ]
    },
    {
      "cell_type": "code",
      "metadata": {
        "colab": {
          "base_uri": "https://localhost:8080/",
          "height": 295
        },
        "id": "QO_8Pss3NdB2",
        "outputId": "e3a1e42c-a5c4-4c6b-9e2b-786b6676bf5b"
      },
      "source": [
        "Error =[]\n",
        "for i in range(1, 11):\n",
        "    kmeans = KMeans(n_clusters = i).fit(x)\n",
        "    kmeans.fit(x)\n",
        "    Error.append(kmeans.inertia_)\n",
        "import matplotlib.pyplot as plt\n",
        "plt.plot(range(1, 11), Error)\n",
        "plt.title('Elbow method')\n",
        "plt.xlabel('No of clusters')\n",
        "plt.ylabel('Error')\n",
        "plt.show()"
      ],
      "execution_count": null,
      "outputs": [
        {
          "output_type": "display_data",
          "data": {
            "image/png": "[encoded data removed]",
            "text/plain": [
              "<Figure size 432x288 with 1 Axes>"
            ]
          },
          "metadata": {
            "tags": [],
            "needs_background": "light"
          }
        }
      ]
    },
    {
      "cell_type": "code",
      "metadata": {
        "colab": {
          "base_uri": "https://localhost:8080/"
        },
        "id": "KLpEj3cGNnXC",
        "outputId": "6c820c06-5c7b-4f97-876f-a0d0e0388370"
      },
      "source": [
        "#As we can see, the optimal value of k is between 2 and 4, as the elbow-like shape is formed at k=3 in the above graph.Let’s implement k-means again using k=3\n",
        "kmeans3 = KMeans(n_clusters=3)\n",
        "y_kmeans3 = kmeans3.fit_predict(x)\n",
        "print(y_kmeans3)\n",
        "\n",
        "kmeans3.cluster_centers_"
      ],
      "execution_count": null,
      "outputs": [
        {
          "output_type": "stream",
          "text": [
            "[2 2 2 2 2 2 2 2 2 2 2 2 2 2 2 2 2 2 2 2 2 2 2 2 2 2 2 2 2 2 2 2 2 2 2 2 2\n",
            " 2 2 2 2 2 2 2 2 2 2 2 2 2 0 0 0 0 0 0 0 0 0 0 0 0 0 0 0 0 0 0 0 0 0 0 0 0\n",
            " 0 0 0 0 0 0 0 0 0 0 0 0 0 0 0 0 0 0 0 0 0 0 0 0 0 0 1 1 1 1 1 1 1 1 1 1 1\n",
            " 1 1 1 1 1 1 1 1 1 1 1 1 1 1 1 1 1 1 1 1 1 1 1 1 1 1 1 1 1 1 1 1 1 1 1 1 1\n",
            " 1 1]\n"
          ],
          "name": "stdout"
        },
        {
          "output_type": "execute_result",
          "data": {
            "text/plain": [
              "array([[ 75.5  ,   5.936,   2.77 ,   4.26 ],\n",
              "       [125.5  ,   6.588,   2.974,   5.552],\n",
              "       [ 25.5  ,   5.006,   3.418,   1.464]])"
            ]
          },
          "metadata": {
            "tags": []
          },
          "execution_count": 35
        }
      ]
    },
    {
      "cell_type": "code",
      "metadata": {
        "colab": {
          "base_uri": "https://localhost:8080/",
          "height": 282
        },
        "id": "yV3QwtUCNshe",
        "outputId": "ad7df409-0583-43ca-d615-786ab02a0612"
      },
      "source": [
        "plt.scatter(x[:,0],x[:,1], c=y_kmeans3,cmap = 'rainbow')"
      ],
      "execution_count": null,
      "outputs": [
        {
          "output_type": "execute_result",
          "data": {
            "text/plain": [
              "<matplotlib.collections.PathCollection at 0x7ff9444b8b10>"
            ]
          },
          "metadata": {
            "tags": []
          },
          "execution_count": 36
        },
        {
          "output_type": "display_data",
          "data": {
            "image/png": "[encoded data removed]",
            "text/plain": [
              "<Figure size 432x288 with 1 Axes>"
            ]
          },
          "metadata": {
            "tags": [],
            "needs_background": "light"
          }
        }
      ]
    },
    {
      "cell_type": "markdown",
      "metadata": {
        "id": "r8qTx8B0QMvl"
      },
      "source": [
        "Program to calculate the entropy and the information gain"
      ]
    },
    {
      "cell_type": "markdown",
      "metadata": {
        "id": "TBrvI8kqQQWt"
      },
      "source": [
        "Program to implement perceptron"
      ]
    },
    {
      "cell_type": "code",
      "metadata": {
        "colab": {
          "base_uri": "https://localhost:8080/"
        },
        "id": "9nAp0jAjNS3i",
        "outputId": "2c0b1c71-31cc-447d-d1c5-0eb81041b073"
      },
      "source": [
        "# calculate the information gain\n",
        "from math import log2\n",
        "\n",
        "def entropy(class0, class1):\n",
        "\treturn -(class0 * log2(class0) + class1 * log2(class1))\n",
        " \n",
        "class0 = 13 / 20\n",
        "class1 = 7 / 20\n",
        "\n",
        "# calculate entropy before the change\n",
        "s_entropy = entropy(class0, class1)\n",
        "print('Dataset Entropy: %.3f bits' % s_entropy)\n",
        " \n",
        "# split 1 (split via value1)\n",
        "s1_class0 = 7 / 8\n",
        "s1_class1 = 1 / 8\n",
        "# calculate the entropy of the first group\n",
        "s1_entropy = entropy(s1_class0, s1_class1)\n",
        "print('Group1 Entropy: %.3f bits' % s1_entropy)\n",
        " \n",
        "# split 2  (split via value2)\n",
        "s2_class0 = 6 / 12\n",
        "s2_class1 = 6 / 12\n",
        "# calculate the entropy of the second group\n",
        "s2_entropy = entropy(s2_class0, s2_class1)\n",
        "print('Group2 Entropy: %.3f bits' % s2_entropy)\n",
        " \n",
        "# calculate the information gain\n",
        "gain = s_entropy - (8/20 * s1_entropy + 12/20 * s2_entropy)\n",
        "print('Information Gain: %.3f bits' % gain)"
      ],
      "execution_count": null,
      "outputs": [
        {
          "output_type": "stream",
          "text": [
            "Dataset Entropy: 0.934 bits\n",
            "Group1 Entropy: 0.544 bits\n",
            "Group2 Entropy: 1.000 bits\n",
            "Information Gain: 0.117 bits\n"
          ],
          "name": "stdout"
        }
      ]
    },
    {
      "cell_type": "code",
      "metadata": {
        "id": "FcUdkeQoPYvf"
      },
      "source": [
        ""
      ],
      "execution_count": null,
      "outputs": []
    },
    {
      "cell_type": "code",
      "metadata": {
        "id": "moLkTB1qRHi4"
      },
      "source": [
        "import numpy as np\n",
        "\n",
        "\n",
        "class Perceptron:\n",
        "    def __init__(self,learning_rate=0.01, n_iter=100, random_state=1):\n",
        "          self.learning_rate = learning_rate\n",
        "          self.n_iter = n_iter\n",
        "          self.random_state = random_state\n",
        "    \n",
        "    def fit(self, X, y):\n",
        "      rand = np.random.RandomState(self.random_state)\n",
        "      self.weights = rand.normal(loc=0.0, scale=0.01, size=1 +  X.shape[1])\n",
        "      self.errors_ = []\n",
        "      for _ in range(self.n_iter):\n",
        "        errors = 0\n",
        "        for x, target in zip(X, y):\n",
        "          update = self.learning_rate * (target - self.predict(x))\n",
        "          self.weights[1:] += update * x\n",
        "          self.weights[0] += update\n",
        "          errors += int(update != 0.0)\n",
        "          self.errors_.append(errors)\n",
        "        return self\n",
        "    def net_input(self, X):\n",
        "      z = np.dot(X, self.weights[1:]) + self.weights[0]\n",
        "      return z\n",
        "    def predict(self, X):\n",
        "      return np.where(self.net_input(X) >= 0, 1, -1)"
      ],
      "execution_count": null,
      "outputs": []
    },
    {
      "cell_type": "code",
      "metadata": {
        "id": "KCT2n4zDPjn4"
      },
      "source": [
        "from sklearn.datasets import load_iris\n",
        "X,y = load_iris(return_X_y=True)"
      ],
      "execution_count": null,
      "outputs": []
    },
    {
      "cell_type": "code",
      "metadata": {
        "colab": {
          "base_uri": "https://localhost:8080/",
          "height": 282
        },
        "id": "FEj1dBa9Ubor",
        "outputId": "06c23a02-9d9b-49c5-99a9-56fcd5b9efad"
      },
      "source": [
        "import matplotlib.pyplot as plt\n",
        "import numpy as np\n",
        "%matplotlib inline\n",
        "plt.scatter(X[:50, 0], X[:50, 1],\n",
        "            color='green', marker='x', label='setosa')\n",
        "plt.scatter(X[50:100, 0], X[50:100, 1],\n",
        "            color='red', marker='o', label='versicolor')\n",
        "plt.xlabel('sepal length')\n",
        "plt.ylabel('petal length')\n",
        "plt.legend(loc='upper right')\n",
        "plt.show()"
      ],
      "execution_count": null,
      "outputs": [
        {
          "output_type": "display_data",
          "data": {
            "image/png": "[encoded data removed]",
            "text/plain": [
              "<Figure size 432x288 with 1 Axes>"
            ]
          },
          "metadata": {
            "tags": [],
            "needs_background": "light"
          }
        }
      ]
    },
    {
      "cell_type": "code",
      "metadata": {
        "colab": {
          "base_uri": "https://localhost:8080/",
          "height": 279
        },
        "id": "BHuVCZciS6t5",
        "outputId": "384ae83f-4c51-42f7-8cba-21d14a4ebb56"
      },
      "source": [
        "per = Perceptron(learning_rate=0.1, n_iter=100, random_state=1)\n",
        "per.fit(X, y)\n",
        "plt.plot(range(1, len(per.errors_) + 1), per.errors_, marker='o')\n",
        "plt.xlabel('Epochs')\n",
        "plt.ylabel('Number of updates')\n",
        "plt.show()"
      ],
      "execution_count": null,
      "outputs": [
        {
          "output_type": "display_data",
          "data": {
            "image/png": "[encoded data removed]",
            "text/plain": [
              "<Figure size 432x288 with 1 Axes>"
            ]
          },
          "metadata": {
            "tags": [],
            "needs_background": "light"
          }
        }
      ]
    },
    {
      "cell_type": "markdown",
      "metadata": {
        "id": "tgFX7_N5QRU0"
      },
      "source": [
        "# Exercise 6"
      ]
    },
    {
      "cell_type": "markdown",
      "metadata": {
        "id": "byOJFT4yQYM1"
      },
      "source": [
        "Generate a decision tree. Find the Depth of decision trees and observe the results, then \n",
        "propose some changes in DecisionTreeClassifier function to limit."
      ]
    },
    {
      "cell_type": "code",
      "metadata": {
        "id": "2Y8mLwNhQbCV",
        "colab": {
          "base_uri": "https://localhost:8080/"
        },
        "outputId": "fa722b77-792e-4a05-f542-9ecbf084d944"
      },
      "source": [
        "class Node:\n",
        " \n",
        "   \n",
        "    def __init__(self, data):\n",
        "        self.data = data\n",
        "        self.left = None\n",
        "        self.right = None\n",
        " \n",
        "\n",
        "def maxDepth(node):\n",
        "    if node is None:\n",
        "        return 0 ;\n",
        " \n",
        "    else :\n",
        "        lDepth = maxDepth(node.left)\n",
        "        rDepth = maxDepth(node.right)\n",
        " \n",
        "        \n",
        "        if (lDepth > rDepth):\n",
        "            return lDepth+1\n",
        "        else:\n",
        "            return rDepth+1\n",
        " \n",
        " \n",
        "\n",
        "root = Node(20)\n",
        "root.left = Node(30)\n",
        "root.right = Node(48)\n",
        "root.left.left = Node(15)\n",
        "root.left.right = Node(50)\n",
        " \n",
        " \n",
        "print (\"Height of tree is %d\" %(maxDepth(root)))"
      ],
      "execution_count": null,
      "outputs": [
        {
          "output_type": "stream",
          "text": [
            "Height of tree is 3\n"
          ],
          "name": "stdout"
        }
      ]
    },
    {
      "cell_type": "markdown",
      "metadata": {
        "id": "ygyyhhReQbcF"
      },
      "source": [
        "Occupancy estimator using random forest"
      ]
    },
    {
      "cell_type": "code",
      "metadata": {
        "id": "K6isz9VUQf79"
      },
      "source": [
        ""
      ],
      "execution_count": null,
      "outputs": []
    },
    {
      "cell_type": "markdown",
      "metadata": {
        "id": "AFVz4vkcQgXl"
      },
      "source": [
        "# Exercise 7"
      ]
    },
    {
      "cell_type": "markdown",
      "metadata": {
        "id": "my_6k0yqQjd2"
      },
      "source": [
        "Calculating with matrices using numpy : inv, pinv, matrix_rank, solve, lstsq, svd, \n",
        "transpose, eig, sort, linspace, meshgrid, mgrid, ogrid, concatenate, tile, squeeze, integrate"
      ]
    },
    {
      "cell_type": "code",
      "metadata": {
        "colab": {
          "base_uri": "https://localhost:8080/"
        },
        "id": "RB0up3B6p60g",
        "outputId": "81d79bd1-4fd9-4120-e4d1-7bf1047208c2"
      },
      "source": [
        "import numpy as np\n",
        "from numpy import linalg\n",
        "matrix = np.array([\n",
        "                [10,20,30,40],\n",
        "                [34,54,36,90],\n",
        "                [48,83,94,23],\n",
        "                [23,45,36,89]\n",
        "])\n",
        "\n",
        "print(\"Inverse of matrix:\\n\")\n",
        "print(linalg.inv(matrix))\n",
        "print(\"\\n\\n\")\n",
        "print(\"Pseudo Inverse of matrix:\\n\")\n",
        "print(linalg.pinv(matrix))"
      ],
      "execution_count": null,
      "outputs": [
        {
          "output_type": "stream",
          "text": [
            "Inverse of matrix:\n",
            "\n",
            "[[ 1.33295973e-01  1.79088944e-01 -2.08950444e-02 -2.35609639e-01]\n",
            " [-1.65086863e-01 -1.08618205e-01  2.64190217e-02  1.77207589e-01]\n",
            " [ 7.29245056e-02  2.60187335e-03 -8.00576415e-05 -3.53854775e-02]\n",
            " [ 1.95260588e-02  7.58546153e-03 -7.92570651e-03 -3.16227684e-03]]\n",
            "\n",
            "\n",
            "\n",
            "Pseudo Inverse of matrix:\n",
            "\n",
            "[[ 1.33295973e-01  1.79088944e-01 -2.08950444e-02 -2.35609639e-01]\n",
            " [-1.65086863e-01 -1.08618205e-01  2.64190217e-02  1.77207589e-01]\n",
            " [ 7.29245056e-02  2.60187335e-03 -8.00576415e-05 -3.53854775e-02]\n",
            " [ 1.95260588e-02  7.58546153e-03 -7.92570651e-03 -3.16227684e-03]]\n"
          ],
          "name": "stdout"
        }
      ]
    },
    {
      "cell_type": "code",
      "metadata": {
        "colab": {
          "base_uri": "https://localhost:8080/"
        },
        "id": "y_EAfTp-Yuui",
        "outputId": "16bc55e8-20ee-444f-d755-203adb869f9e"
      },
      "source": [
        "from numpy import linalg\n",
        "\n",
        "matrix = np.ones(7)\n",
        "print(matrix)\n",
        "\n",
        "print(\"Rank of matrix: \",linalg.matrix_rank(matrix))"
      ],
      "execution_count": null,
      "outputs": [
        {
          "output_type": "stream",
          "text": [
            "[1. 1. 1. 1. 1. 1. 1.]\n",
            "Rank of matrix:  1\n"
          ],
          "name": "stdout"
        }
      ]
    },
    {
      "cell_type": "code",
      "metadata": {
        "colab": {
          "base_uri": "https://localhost:8080/"
        },
        "id": "TFK8bIl9YyBg",
        "outputId": "512ec726-a4d8-4e4e-cb15-39593c22a97e"
      },
      "source": [
        "coeff_matrix = np.array([\n",
        "                         [6, -9],\n",
        "                         [4, 5]\n",
        "])\n",
        "\n",
        "const_matrix = np.array([1, -6])\n",
        "\n",
        "linalg.lstsq(coeff_matrix, const_matrix)"
      ],
      "execution_count": null,
      "outputs": [
        {
          "output_type": "stream",
          "text": [
            "/usr/local/lib/python3.7/dist-packages/ipykernel_launcher.py:8: FutureWarning: `rcond` parameter will change to the default of machine precision times ``max(M, N)`` where M and N are the input matrix dimensions.\n",
            "To use the future default and silence this warning we advise to pass `rcond=None`, to keep using the old, explicitly pass `rcond=-1`.\n",
            "  \n"
          ],
          "name": "stderr"
        },
        {
          "output_type": "execute_result",
          "data": {
            "text/plain": [
              "(array([-0.74242424, -0.60606061]),\n",
              " array([], dtype=float64),\n",
              " 2,\n",
              " array([11.06420294,  5.96518343]))"
            ]
          },
          "metadata": {
            "tags": []
          },
          "execution_count": 69
        }
      ]
    },
    {
      "cell_type": "code",
      "metadata": {
        "colab": {
          "base_uri": "https://localhost:8080/"
        },
        "id": "JxNvq7sjYyEo",
        "outputId": "8e75abf5-54e7-4078-ab3d-b89d8b197752"
      },
      "source": [
        "coeff_matrix = np.array([\n",
        "                         [52, -8],\n",
        "                         [42, 25]\n",
        "])\n",
        "\n",
        "const_matrix = np.array([1, -6])\n",
        "\n",
        "solution = linalg.solve(coeff_matrix, const_matrix)\n",
        "\n",
        "print(solution)"
      ],
      "execution_count": null,
      "outputs": [
        {
          "output_type": "stream",
          "text": [
            "[-0.01405868 -0.21638142]\n"
          ],
          "name": "stdout"
        }
      ]
    },
    {
      "cell_type": "code",
      "metadata": {
        "colab": {
          "base_uri": "https://localhost:8080/"
        },
        "id": "SRjySZ5oY43h",
        "outputId": "293c907d-6c24-446c-e876-5b9e2aec1bb8"
      },
      "source": [
        "matrix = np.random.randint(1,100,24).reshape(3,8)\n",
        "\n",
        "print(\"Matrix:\")\n",
        "print(matrix)\n",
        "print(\"\\n\\n\")\n",
        "\n",
        "print(\"Transpose of Matrix:\")\n",
        "print(matrix.transpose())"
      ],
      "execution_count": null,
      "outputs": [
        {
          "output_type": "stream",
          "text": [
            "Matrix:\n",
            "[[12 86 36 49 40 24 46 68]\n",
            " [44 72  4  5 67 72 71 42]\n",
            " [91 55 13  3 43 61 10 82]]\n",
            "\n",
            "\n",
            "\n",
            "Transpose of Matrix:\n",
            "[[12 44 91]\n",
            " [86 72 55]\n",
            " [36  4 13]\n",
            " [49  5  3]\n",
            " [40 67 43]\n",
            " [24 72 61]\n",
            " [46 71 10]\n",
            " [68 42 82]]\n"
          ],
          "name": "stdout"
        }
      ]
    },
    {
      "cell_type": "code",
      "metadata": {
        "colab": {
          "base_uri": "https://localhost:8080/"
        },
        "id": "gKPtjDB_ZFOw",
        "outputId": "6b27024e-2a5f-4413-84ed-08b68b35e8e1"
      },
      "source": [
        "matrix = np.array([\n",
        "                   [23,0,0,0],\n",
        "                   [0,90,0,0],\n",
        "                   [0,0,87,0],\n",
        "                   [0,0,0,76]\n",
        "])\n",
        "\n",
        "print(\"Matrix: \")\n",
        "print(matrix)\n",
        "\n",
        "evl, evc = linalg.eig(matrix)\n",
        "\n",
        "print(\"\\nEigen values:\")\n",
        "print(evl)\n",
        "\n",
        "print(\"\\nEigen vectors:\")\n",
        "print(evc)"
      ],
      "execution_count": null,
      "outputs": [
        {
          "output_type": "stream",
          "text": [
            "Matrix: \n",
            "[[23  0  0  0]\n",
            " [ 0 90  0  0]\n",
            " [ 0  0 87  0]\n",
            " [ 0  0  0 76]]\n",
            "\n",
            "Eigen values:\n",
            "[23. 90. 87. 76.]\n",
            "\n",
            "Eigen vectors:\n",
            "[[1. 0. 0. 0.]\n",
            " [0. 1. 0. 0.]\n",
            " [0. 0. 1. 0.]\n",
            " [0. 0. 0. 1.]]\n"
          ],
          "name": "stdout"
        }
      ]
    },
    {
      "cell_type": "code",
      "metadata": {
        "colab": {
          "base_uri": "https://localhost:8080/"
        },
        "id": "25N14jm7ZMJ_",
        "outputId": "bb1d8aa7-07f5-42e3-865d-f48d213c58fb"
      },
      "source": [
        "matrix = np.random.randint(1,30,24).reshape(6,4)\n",
        "print(matrix)\n",
        "\n",
        "print(\"\\n\\nsorted:\")\n",
        "print(np.sort(matrix, axis=None))\n",
        "\n",
        "print(\"\\n\\nsorted row wise:\")\n",
        "print(np.sort(matrix, axis=0))\n",
        "\n",
        "print(\"\\n\\nsorted column wise:\")\n",
        "print(np.sort(matrix, axis=1))"
      ],
      "execution_count": null,
      "outputs": [
        {
          "output_type": "stream",
          "text": [
            "[[ 7  6 24 27]\n",
            " [11 22 10 18]\n",
            " [ 4 16 27 28]\n",
            " [ 1 14 29 23]\n",
            " [10 17 14 11]\n",
            " [ 9 15  3 20]]\n",
            "\n",
            "\n",
            "sorted:\n",
            "[ 1  3  4  6  7  9 10 10 11 11 14 14 15 16 17 18 20 22 23 24 27 27 28 29]\n",
            "\n",
            "\n",
            "sorted row wise:\n",
            "[[ 1  6  3 11]\n",
            " [ 4 14 10 18]\n",
            " [ 7 15 14 20]\n",
            " [ 9 16 24 23]\n",
            " [10 17 27 27]\n",
            " [11 22 29 28]]\n",
            "\n",
            "\n",
            "sorted column wise:\n",
            "[[ 6  7 24 27]\n",
            " [10 11 18 22]\n",
            " [ 4 16 27 28]\n",
            " [ 1 14 23 29]\n",
            " [10 11 14 17]\n",
            " [ 3  9 15 20]]\n"
          ],
          "name": "stdout"
        }
      ]
    },
    {
      "cell_type": "code",
      "metadata": {
        "colab": {
          "base_uri": "https://localhost:8080/"
        },
        "id": "zELUw_nbZPQu",
        "outputId": "f2134cad-319e-4c00-b29f-b42b398a3868"
      },
      "source": [
        "a = np.linspace(0,100,num=10)\n",
        "print(a)\n",
        "a = np.mgrid[1:10,5:20]\n",
        "print(a)\n",
        "a = np.linspace(1, 5, 5)\n",
        "b = np.linspace(1,8,8)\n",
        "\n",
        "x,y = np.meshgrid(a,b)\n",
        "\n",
        "print(x)\n",
        "print(y)\n",
        "a = np.ogrid[1:10,5:20]\n",
        "print(a)"
      ],
      "execution_count": null,
      "outputs": [
        {
          "output_type": "stream",
          "text": [
            "[  0.          11.11111111  22.22222222  33.33333333  44.44444444\n",
            "  55.55555556  66.66666667  77.77777778  88.88888889 100.        ]\n",
            "[[[ 1  1  1  1  1  1  1  1  1  1  1  1  1  1  1]\n",
            "  [ 2  2  2  2  2  2  2  2  2  2  2  2  2  2  2]\n",
            "  [ 3  3  3  3  3  3  3  3  3  3  3  3  3  3  3]\n",
            "  [ 4  4  4  4  4  4  4  4  4  4  4  4  4  4  4]\n",
            "  [ 5  5  5  5  5  5  5  5  5  5  5  5  5  5  5]\n",
            "  [ 6  6  6  6  6  6  6  6  6  6  6  6  6  6  6]\n",
            "  [ 7  7  7  7  7  7  7  7  7  7  7  7  7  7  7]\n",
            "  [ 8  8  8  8  8  8  8  8  8  8  8  8  8  8  8]\n",
            "  [ 9  9  9  9  9  9  9  9  9  9  9  9  9  9  9]]\n",
            "\n",
            " [[ 5  6  7  8  9 10 11 12 13 14 15 16 17 18 19]\n",
            "  [ 5  6  7  8  9 10 11 12 13 14 15 16 17 18 19]\n",
            "  [ 5  6  7  8  9 10 11 12 13 14 15 16 17 18 19]\n",
            "  [ 5  6  7  8  9 10 11 12 13 14 15 16 17 18 19]\n",
            "  [ 5  6  7  8  9 10 11 12 13 14 15 16 17 18 19]\n",
            "  [ 5  6  7  8  9 10 11 12 13 14 15 16 17 18 19]\n",
            "  [ 5  6  7  8  9 10 11 12 13 14 15 16 17 18 19]\n",
            "  [ 5  6  7  8  9 10 11 12 13 14 15 16 17 18 19]\n",
            "  [ 5  6  7  8  9 10 11 12 13 14 15 16 17 18 19]]]\n",
            "[[1. 2. 3. 4. 5.]\n",
            " [1. 2. 3. 4. 5.]\n",
            " [1. 2. 3. 4. 5.]\n",
            " [1. 2. 3. 4. 5.]\n",
            " [1. 2. 3. 4. 5.]\n",
            " [1. 2. 3. 4. 5.]\n",
            " [1. 2. 3. 4. 5.]\n",
            " [1. 2. 3. 4. 5.]]\n",
            "[[1. 1. 1. 1. 1.]\n",
            " [2. 2. 2. 2. 2.]\n",
            " [3. 3. 3. 3. 3.]\n",
            " [4. 4. 4. 4. 4.]\n",
            " [5. 5. 5. 5. 5.]\n",
            " [6. 6. 6. 6. 6.]\n",
            " [7. 7. 7. 7. 7.]\n",
            " [8. 8. 8. 8. 8.]]\n",
            "[array([[1],\n",
            "       [2],\n",
            "       [3],\n",
            "       [4],\n",
            "       [5],\n",
            "       [6],\n",
            "       [7],\n",
            "       [8],\n",
            "       [9]]), array([[ 5,  6,  7,  8,  9, 10, 11, 12, 13, 14, 15, 16, 17, 18, 19]])]\n"
          ],
          "name": "stdout"
        }
      ]
    },
    {
      "cell_type": "code",
      "metadata": {
        "colab": {
          "base_uri": "https://localhost:8080/"
        },
        "id": "yI-tZTlMZTtj",
        "outputId": "0ff8b3d6-c07c-4168-c309-27a0a87143b8"
      },
      "source": [
        "a = np.array([\n",
        "              [1,2,3],\n",
        "              [4,5,6],\n",
        "              [7,8,9]\n",
        "])\n",
        "\n",
        "b = np.array([\n",
        "              [20,30,40],\n",
        "              [50,60,90],\n",
        "              [45,25,65]\n",
        "])\n",
        "x = np.concatenate((a,b), axis=0)\n",
        "print(x)\n",
        "\n",
        "print(\"\\n\\n\")\n",
        "x = np.concatenate((a,b), axis=1)\n",
        "print(x)"
      ],
      "execution_count": null,
      "outputs": [
        {
          "output_type": "stream",
          "text": [
            "[[ 1  2  3]\n",
            " [ 4  5  6]\n",
            " [ 7  8  9]\n",
            " [20 30 40]\n",
            " [50 60 90]\n",
            " [45 25 65]]\n",
            "\n",
            "\n",
            "\n",
            "[[ 1  2  3 20 30 40]\n",
            " [ 4  5  6 50 60 90]\n",
            " [ 7  8  9 45 25 65]]\n"
          ],
          "name": "stdout"
        }
      ]
    },
    {
      "cell_type": "code",
      "metadata": {
        "colab": {
          "base_uri": "https://localhost:8080/"
        },
        "id": "dx-uvcqeZc-i",
        "outputId": "2a36ee69-0ff7-4efc-c95c-27b4698464d7"
      },
      "source": [
        "from scipy import integrate\n",
        "def integrand(x, a, b):\n",
        "  return a*x**3 + b*x**2\n",
        "\n",
        "result = integrate.quad(integrand, 0, 2, args=(3,9))\n",
        "\n",
        "print(result)"
      ],
      "execution_count": null,
      "outputs": [
        {
          "output_type": "stream",
          "text": [
            "(36.0, 3.9968028886505635e-13)\n"
          ],
          "name": "stdout"
        }
      ]
    },
    {
      "cell_type": "markdown",
      "metadata": {
        "id": "1gGgU8uPQrP1"
      },
      "source": [
        "# Exercise 8"
      ]
    },
    {
      "cell_type": "markdown",
      "metadata": {
        "id": "-J-jwQCkQvLF"
      },
      "source": [
        "Program using panda"
      ]
    },
    {
      "cell_type": "code",
      "metadata": {
        "id": "OKPT-X7uQxXV",
        "colab": {
          "base_uri": "https://localhost:8080/"
        },
        "outputId": "6f51a283-82c7-4457-b406-d8170d020a81"
      },
      "source": [
        "dict = {\"country\": [\"Brazil\", \"Russia\", \"India\", \"China\", \"South Africa\"],\n",
        "       \"capital\": [\"Brasilia\", \"Moscow\", \"New Dehli\", \"Beijing\", \"Pretoria\"],\n",
        "       \"area\": [8.516, 17.10, 3.286, 9.597, 1.221],\n",
        "       \"population\": [200.4, 143.5, 1252, 1357, 52.98] }\n",
        "\n",
        "import pandas as pd\n",
        "brics = pd.DataFrame(dict)\n",
        "print(brics)"
      ],
      "execution_count": null,
      "outputs": [
        {
          "output_type": "stream",
          "text": [
            "        country    capital    area  population\n",
            "0        Brazil   Brasilia   8.516      200.40\n",
            "1        Russia     Moscow  17.100      143.50\n",
            "2         India  New Dehli   3.286     1252.00\n",
            "3         China    Beijing   9.597     1357.00\n",
            "4  South Africa   Pretoria   1.221       52.98\n"
          ],
          "name": "stdout"
        }
      ]
    },
    {
      "cell_type": "code",
      "metadata": {
        "colab": {
          "base_uri": "https://localhost:8080/"
        },
        "id": "xndwZs4Nk8mu",
        "outputId": "637d9076-a579-4a63-d0a0-8bfdeb8f79d3"
      },
      "source": [
        "#Program to convert a dictionary to a Pandas series\n",
        "d1 = {'a': 10, 'b': 20, 'c':30, 'd':40, 'e':80}\n",
        "print(\"Original dictionary:\")\n",
        "print(d1)\n",
        "new_series = pd.Series(d1)\n",
        "print(\"Converted series:\")\n",
        "print(new_series)"
      ],
      "execution_count": null,
      "outputs": [
        {
          "output_type": "stream",
          "text": [
            "Original dictionary:\n",
            "{'a': 10, 'b': 20, 'c': 30, 'd': 40, 'e': 80}\n",
            "Converted series:\n",
            "a    10\n",
            "b    20\n",
            "c    30\n",
            "d    40\n",
            "e    80\n",
            "dtype: int64\n"
          ],
          "name": "stdout"
        }
      ]
    },
    {
      "cell_type": "code",
      "metadata": {
        "id": "Uem6lhQAS1ep"
      },
      "source": [
        ""
      ],
      "execution_count": null,
      "outputs": []
    },
    {
      "cell_type": "code",
      "metadata": {
        "colab": {
          "base_uri": "https://localhost:8080/"
        },
        "id": "ZVYpnbIDlFXd",
        "outputId": "b5cbae05-e08b-4e24-dc79-bf00e41abbb8"
      },
      "source": [
        "#Joining and merging DataFrame\n",
        "student_data1 = pd.DataFrame({\n",
        "        'student_id': ['S1', 'S2', 'S3', 'S4', 'S5'],\n",
        "         'name': ['Priyanka', 'Shravya', 'Yashvi', 'Snigdha', 'Ashritha'], \n",
        "        'marks': [200, 210, 190, 222, 199]})\n",
        "\n",
        "student_data2 = pd.DataFrame({\n",
        "        'student_id': ['S4', 'S5', 'S6', 'S7', 'S8'],\n",
        "        'name': ['Shoyab', 'Sajid', 'Akash', 'Yashwanth', 'Meghana'], \n",
        "        'marks': [201, 200, 198, 219, 201]})\n",
        "\n",
        "print(\"Original DataFrames:\")\n",
        "print(student_data1)\n",
        "print(\"-------------------------------------\")\n",
        "print(student_data2)\n",
        "print(\"\\nJoining two data frames:\")\n",
        "result_data = pd.concat([student_data1, student_data2])\n",
        "print(result_data)"
      ],
      "execution_count": null,
      "outputs": [
        {
          "output_type": "stream",
          "text": [
            "Original DataFrames:\n",
            "  student_id      name  marks\n",
            "0         S1  Priyanka    200\n",
            "1         S2   Shravya    210\n",
            "2         S3    Yashvi    190\n",
            "3         S4   Snigdha    222\n",
            "4         S5  Ashritha    199\n",
            "-------------------------------------\n",
            "  student_id       name  marks\n",
            "0         S4     Shoyab    201\n",
            "1         S5      Sajid    200\n",
            "2         S6      Akash    198\n",
            "3         S7  Yashwanth    219\n",
            "4         S8    Meghana    201\n",
            "\n",
            "Joining two data frames:\n",
            "  student_id       name  marks\n",
            "0         S1   Priyanka    200\n",
            "1         S2    Shravya    210\n",
            "2         S3     Yashvi    190\n",
            "3         S4    Snigdha    222\n",
            "4         S5   Ashritha    199\n",
            "0         S4     Shoyab    201\n",
            "1         S5      Sajid    200\n",
            "2         S6      Akash    198\n",
            "3         S7  Yashwanth    219\n",
            "4         S8    Meghana    201\n"
          ],
          "name": "stdout"
        }
      ]
    },
    {
      "cell_type": "markdown",
      "metadata": {
        "id": "DRFDQYflQ0Ld"
      },
      "source": [
        "Program using matplotlib "
      ]
    },
    {
      "cell_type": "code",
      "metadata": {
        "id": "REMpF3VuQ969",
        "colab": {
          "base_uri": "https://localhost:8080/",
          "height": 264
        },
        "outputId": "3dd97ec2-cd44-499c-b8b9-1f271fda51b3"
      },
      "source": [
        "import matplotlib.pyplot as plt\n",
        " \n",
        "days = [1,2,3,4,5]\n",
        " \n",
        "sleeping =[7,8,6,11,7]\n",
        "eating = [2,3,4,3,2]\n",
        "working =[7,8,7,2,2]\n",
        "playing = [8,5,7,8,13]\n",
        "slices = [7,2,2,13]\n",
        "activities = ['sleeping','eating','working','playing']\n",
        "cols = ['c','m','r','b']\n",
        " \n",
        "plt.pie(slices,\n",
        "  labels=activities,\n",
        "  colors=cols,\n",
        "  startangle=90,\n",
        "  shadow= True,\n",
        "  explode=(0,0.1,0,0),\n",
        "  autopct='%1.1f%%')\n",
        " \n",
        "plt.title('Pie Plot')\n",
        "plt.show()"
      ],
      "execution_count": null,
      "outputs": [
        {
          "output_type": "display_data",
          "data": {
            "image/png": "[encoded data removed]",
            "text/plain": [
              "<Figure size 432x288 with 1 Axes>"
            ]
          },
          "metadata": {
            "tags": []
          }
        }
      ]
    },
    {
      "cell_type": "markdown",
      "metadata": {
        "id": "xcPvfMYGQ809"
      },
      "source": [
        "# Exercise 9"
      ]
    },
    {
      "cell_type": "markdown",
      "metadata": {
        "id": "oRwMAD3qRC6N"
      },
      "source": [
        "Graph using matplotlib"
      ]
    },
    {
      "cell_type": "code",
      "metadata": {
        "id": "OmQimBerRB6t",
        "colab": {
          "base_uri": "https://localhost:8080/",
          "height": 295
        },
        "outputId": "af6aa47c-53e5-4290-ebfa-f2ddcc8dccf0"
      },
      "source": [
        "import matplotlib.pyplot as plt\n",
        "x = [9,7,5]\n",
        "y = [2,4,1]\n",
        "plt.plot(x, y)\n",
        "plt.xlabel('x - axis')\n",
        "plt.ylabel('y - axis')\n",
        "plt.title('graph')\n",
        "plt.show()"
      ],
      "execution_count": null,
      "outputs": [
        {
          "output_type": "display_data",
          "data": {
            "image/png": "[encoded data removed]",
            "text/plain": [
              "<Figure size 432x288 with 1 Axes>"
            ]
          },
          "metadata": {
            "tags": [],
            "needs_background": "light"
          }
        }
      ]
    },
    {
      "cell_type": "markdown",
      "metadata": {
        "id": "J9J3uTLcRHSl"
      },
      "source": [
        "# Exercise 10"
      ]
    },
    {
      "cell_type": "markdown",
      "metadata": {
        "id": "dOT2HBkSRKhd"
      },
      "source": [
        "Vector using matplotlib"
      ]
    },
    {
      "cell_type": "code",
      "metadata": {
        "id": "82zA399RROwe",
        "colab": {
          "base_uri": "https://localhost:8080/",
          "height": 1000
        },
        "outputId": "9d87453f-a578-4fe5-b5a7-e7444e6523dd"
      },
      "source": [
        "import numpy as np\n",
        "import matplotlib.pyplot as plt\n",
        "M = np.array([[1,1],[-2,2],[4,-7]])\n",
        "\n",
        "print(\"vector:1\")\n",
        "print(M[0,:])\n",
        "rows,cols = M.T.shape\n",
        "print(cols)\n",
        "\n",
        "for i,l in enumerate(range(0,cols)):\n",
        "    print(\"Iteration: {}-{}\".format(i,l))\n",
        "    print(\"vector:{}\".format(i))\n",
        "    print(M[i,:])\n",
        "    v1 = [0,0],[M[i,0],M[i,1]]\n",
        "    print(v1)\n",
        "    plt.figure(i)\n",
        "    plt.plot(v1)\n",
        "    plt.show()"
      ],
      "execution_count": null,
      "outputs": [
        {
          "output_type": "stream",
          "text": [
            "vector:1\n",
            "[1 1]\n",
            "3\n",
            "Iteration: 0-0\n",
            "vector:0\n",
            "[1 1]\n",
            "([0, 0], [1, 1])\n"
          ],
          "name": "stdout"
        },
        {
          "output_type": "display_data",
          "data": {
            "image/png": "[encoded data removed]",
            "text/plain": [
              "<Figure size 432x288 with 1 Axes>"
            ]
          },
          "metadata": {
            "tags": [],
            "needs_background": "light"
          }
        },
        {
          "output_type": "stream",
          "text": [
            "Iteration: 1-1\n",
            "vector:1\n",
            "[-2  2]\n",
            "([0, 0], [-2, 2])\n"
          ],
          "name": "stdout"
        },
        {
          "output_type": "display_data",
          "data": {
            "image/png": "[encoded data removed]",
            "text/plain": [
              "<Figure size 432x288 with 1 Axes>"
            ]
          },
          "metadata": {
            "tags": [],
            "needs_background": "light"
          }
        },
        {
          "output_type": "stream",
          "text": [
            "Iteration: 2-2\n",
            "vector:2\n",
            "[ 4 -7]\n",
            "([0, 0], [4, -7])\n"
          ],
          "name": "stdout"
        },
        {
          "output_type": "display_data",
          "data": {
            "image/png": "[encoded data removed]",
            "text/plain": [
              "<Figure size 432x288 with 1 Axes>"
            ]
          },
          "metadata": {
            "tags": [],
            "needs_background": "light"
          }
        }
      ]
    },
    {
      "cell_type": "markdown",
      "metadata": {
        "id": "UmMeb0EhRQgd"
      },
      "source": [
        "# Exercise 11"
      ]
    },
    {
      "cell_type": "markdown",
      "metadata": {
        "id": "7tK0qiqNRSWl"
      },
      "source": [
        "Program to estimating occupancy using decision tree"
      ]
    },
    {
      "cell_type": "code",
      "metadata": {
        "id": "r737fWInRVC9"
      },
      "source": [
        ""
      ],
      "execution_count": null,
      "outputs": []
    }
  ]
}